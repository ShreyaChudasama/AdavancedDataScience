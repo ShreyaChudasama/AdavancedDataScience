{
 "cells": [
  {
   "cell_type": "markdown",
   "metadata": {},
   "source": [
    "# Part 1 : Exploratory Data"
   ]
  },
  {
   "cell_type": "code",
   "execution_count": 1,
   "metadata": {},
   "outputs": [
    {
     "name": "stderr",
     "output_type": "stream",
     "text": [
      "C:\\Users\\sreer\\Anaconda3\\envs\\learn_python\\lib\\site-packages\\pandas_profiling\\plot.py:15: UserWarning:\n",
      "\n",
      "\n",
      "This call to matplotlib.use() has no effect because the backend has already\n",
      "been chosen; matplotlib.use() must be called *before* pylab, matplotlib.pyplot,\n",
      "or matplotlib.backends is imported for the first time.\n",
      "\n",
      "The backend was *originally* set to 'module://ipykernel.pylab.backend_inline' by the following code:\n",
      "  File \"C:\\Users\\sreer\\Anaconda3\\envs\\learn_python\\lib\\runpy.py\", line 193, in _run_module_as_main\n",
      "    \"__main__\", mod_spec)\n",
      "  File \"C:\\Users\\sreer\\Anaconda3\\envs\\learn_python\\lib\\runpy.py\", line 85, in _run_code\n",
      "    exec(code, run_globals)\n",
      "  File \"C:\\Users\\sreer\\Anaconda3\\envs\\learn_python\\lib\\site-packages\\ipykernel_launcher.py\", line 16, in <module>\n",
      "    app.launch_new_instance()\n",
      "  File \"C:\\Users\\sreer\\Anaconda3\\envs\\learn_python\\lib\\site-packages\\traitlets\\config\\application.py\", line 658, in launch_instance\n",
      "    app.start()\n",
      "  File \"C:\\Users\\sreer\\Anaconda3\\envs\\learn_python\\lib\\site-packages\\ipykernel\\kernelapp.py\", line 478, in start\n",
      "    self.io_loop.start()\n",
      "  File \"C:\\Users\\sreer\\Anaconda3\\envs\\learn_python\\lib\\site-packages\\zmq\\eventloop\\ioloop.py\", line 177, in start\n",
      "    super(ZMQIOLoop, self).start()\n",
      "  File \"C:\\Users\\sreer\\Anaconda3\\envs\\learn_python\\lib\\site-packages\\tornado\\ioloop.py\", line 888, in start\n",
      "    handler_func(fd_obj, events)\n",
      "  File \"C:\\Users\\sreer\\Anaconda3\\envs\\learn_python\\lib\\site-packages\\tornado\\stack_context.py\", line 277, in null_wrapper\n",
      "    return fn(*args, **kwargs)\n",
      "  File \"C:\\Users\\sreer\\Anaconda3\\envs\\learn_python\\lib\\site-packages\\zmq\\eventloop\\zmqstream.py\", line 440, in _handle_events\n",
      "    self._handle_recv()\n",
      "  File \"C:\\Users\\sreer\\Anaconda3\\envs\\learn_python\\lib\\site-packages\\zmq\\eventloop\\zmqstream.py\", line 472, in _handle_recv\n",
      "    self._run_callback(callback, msg)\n",
      "  File \"C:\\Users\\sreer\\Anaconda3\\envs\\learn_python\\lib\\site-packages\\zmq\\eventloop\\zmqstream.py\", line 414, in _run_callback\n",
      "    callback(*args, **kwargs)\n",
      "  File \"C:\\Users\\sreer\\Anaconda3\\envs\\learn_python\\lib\\site-packages\\tornado\\stack_context.py\", line 277, in null_wrapper\n",
      "    return fn(*args, **kwargs)\n",
      "  File \"C:\\Users\\sreer\\Anaconda3\\envs\\learn_python\\lib\\site-packages\\ipykernel\\kernelbase.py\", line 281, in dispatcher\n",
      "    return self.dispatch_shell(stream, msg)\n",
      "  File \"C:\\Users\\sreer\\Anaconda3\\envs\\learn_python\\lib\\site-packages\\ipykernel\\kernelbase.py\", line 232, in dispatch_shell\n",
      "    handler(stream, idents, msg)\n",
      "  File \"C:\\Users\\sreer\\Anaconda3\\envs\\learn_python\\lib\\site-packages\\ipykernel\\kernelbase.py\", line 397, in execute_request\n",
      "    user_expressions, allow_stdin)\n",
      "  File \"C:\\Users\\sreer\\Anaconda3\\envs\\learn_python\\lib\\site-packages\\ipykernel\\ipkernel.py\", line 208, in do_execute\n",
      "    res = shell.run_cell(code, store_history=store_history, silent=silent)\n",
      "  File \"C:\\Users\\sreer\\Anaconda3\\envs\\learn_python\\lib\\site-packages\\ipykernel\\zmqshell.py\", line 533, in run_cell\n",
      "    return super(ZMQInteractiveShell, self).run_cell(*args, **kwargs)\n",
      "  File \"C:\\Users\\sreer\\Anaconda3\\envs\\learn_python\\lib\\site-packages\\IPython\\core\\interactiveshell.py\", line 2728, in run_cell\n",
      "    interactivity=interactivity, compiler=compiler, result=result)\n",
      "  File \"C:\\Users\\sreer\\Anaconda3\\envs\\learn_python\\lib\\site-packages\\IPython\\core\\interactiveshell.py\", line 2850, in run_ast_nodes\n",
      "    if self.run_code(code, result):\n",
      "  File \"C:\\Users\\sreer\\Anaconda3\\envs\\learn_python\\lib\\site-packages\\IPython\\core\\interactiveshell.py\", line 2910, in run_code\n",
      "    exec(code_obj, self.user_global_ns, self.user_ns)\n",
      "  File \"<ipython-input-1-535c79c4bfb7>\", line 2, in <module>\n",
      "    get_ipython().run_line_magic('matplotlib', 'inline')\n",
      "  File \"C:\\Users\\sreer\\Anaconda3\\envs\\learn_python\\lib\\site-packages\\IPython\\core\\interactiveshell.py\", line 2095, in run_line_magic\n",
      "    result = fn(*args,**kwargs)\n",
      "  File \"<decorator-gen-108>\", line 2, in matplotlib\n",
      "  File \"C:\\Users\\sreer\\Anaconda3\\envs\\learn_python\\lib\\site-packages\\IPython\\core\\magic.py\", line 187, in <lambda>\n",
      "    call = lambda f, *a, **k: f(*a, **k)\n",
      "  File \"C:\\Users\\sreer\\Anaconda3\\envs\\learn_python\\lib\\site-packages\\IPython\\core\\magics\\pylab.py\", line 99, in matplotlib\n",
      "    gui, backend = self.shell.enable_matplotlib(args.gui)\n",
      "  File \"C:\\Users\\sreer\\Anaconda3\\envs\\learn_python\\lib\\site-packages\\IPython\\core\\interactiveshell.py\", line 2978, in enable_matplotlib\n",
      "    pt.activate_matplotlib(backend)\n",
      "  File \"C:\\Users\\sreer\\Anaconda3\\envs\\learn_python\\lib\\site-packages\\IPython\\core\\pylabtools.py\", line 308, in activate_matplotlib\n",
      "    matplotlib.pyplot.switch_backend(backend)\n",
      "  File \"C:\\Users\\sreer\\Anaconda3\\envs\\learn_python\\lib\\site-packages\\matplotlib\\pyplot.py\", line 232, in switch_backend\n",
      "    matplotlib.use(newbackend, warn=False, force=True)\n",
      "  File \"C:\\Users\\sreer\\Anaconda3\\envs\\learn_python\\lib\\site-packages\\matplotlib\\__init__.py\", line 1305, in use\n",
      "    reload(sys.modules['matplotlib.backends'])\n",
      "  File \"C:\\Users\\sreer\\Anaconda3\\envs\\learn_python\\lib\\importlib\\__init__.py\", line 166, in reload\n",
      "    _bootstrap._exec(spec, module)\n",
      "  File \"C:\\Users\\sreer\\Anaconda3\\envs\\learn_python\\lib\\site-packages\\matplotlib\\backends\\__init__.py\", line 14, in <module>\n",
      "    line for line in traceback.format_stack()\n",
      "\n",
      "\n",
      "\n"
     ]
    }
   ],
   "source": [
    "\n",
    "%matplotlib inline\n",
    "%config InlineBackend.figure_format='retina'\n",
    "\n",
    "import matplotlib.pyplot as plt\n",
    "import pandas as pd\n",
    "import time\n",
    "import numpy as np\n",
    "import seaborn as sns\n",
    "import datetime\n",
    "import matplotlib as mpl\n",
    "import plotly.plotly as py\n",
    "from plotly.graph_objs import *\n",
    "from matplotlib.pyplot import GridSpec\n",
    "from pandas.tools.plotting import scatter_matrix\n",
    "from sklearn.datasets import make_blobs\n",
    "import missingno as msno\n",
    "import pivottablejs\n",
    "import pandas_profiling\n",
    "import logging\n",
    "\n",
    "from __future__ import print_function\n",
    "from ipywidgets import interact, interactive, fixed, interact_manual\n",
    "import ipywidgets as widgets\n",
    "\n",
    "%matplotlib inline"
   ]
  },
  {
   "cell_type": "code",
   "execution_count": 2,
   "metadata": {},
   "outputs": [],
   "source": [
    "data= pd.read_csv(\"trainingData.csv\")"
   ]
  },
  {
   "cell_type": "code",
   "execution_count": 3,
   "metadata": {},
   "outputs": [
    {
     "data": {
      "text/html": [
       "<div>\n",
       "<style scoped>\n",
       "    .dataframe tbody tr th:only-of-type {\n",
       "        vertical-align: middle;\n",
       "    }\n",
       "\n",
       "    .dataframe tbody tr th {\n",
       "        vertical-align: top;\n",
       "    }\n",
       "\n",
       "    .dataframe thead th {\n",
       "        text-align: right;\n",
       "    }\n",
       "</style>\n",
       "<table border=\"1\" class=\"dataframe\">\n",
       "  <thead>\n",
       "    <tr style=\"text-align: right;\">\n",
       "      <th></th>\n",
       "      <th>WAP001</th>\n",
       "      <th>WAP002</th>\n",
       "      <th>WAP003</th>\n",
       "      <th>WAP004</th>\n",
       "      <th>WAP005</th>\n",
       "      <th>WAP006</th>\n",
       "      <th>WAP007</th>\n",
       "      <th>WAP008</th>\n",
       "      <th>WAP009</th>\n",
       "      <th>WAP010</th>\n",
       "      <th>...</th>\n",
       "      <th>WAP520</th>\n",
       "      <th>LONGITUDE</th>\n",
       "      <th>LATITUDE</th>\n",
       "      <th>FLOOR</th>\n",
       "      <th>BUILDINGID</th>\n",
       "      <th>SPACEID</th>\n",
       "      <th>RELATIVEPOSITION</th>\n",
       "      <th>USERID</th>\n",
       "      <th>PHONEID</th>\n",
       "      <th>TIMESTAMP</th>\n",
       "    </tr>\n",
       "  </thead>\n",
       "  <tbody>\n",
       "    <tr>\n",
       "      <th>0</th>\n",
       "      <td>100</td>\n",
       "      <td>100</td>\n",
       "      <td>100</td>\n",
       "      <td>100</td>\n",
       "      <td>100</td>\n",
       "      <td>100</td>\n",
       "      <td>100</td>\n",
       "      <td>100</td>\n",
       "      <td>100</td>\n",
       "      <td>100</td>\n",
       "      <td>...</td>\n",
       "      <td>100</td>\n",
       "      <td>-7541.2643</td>\n",
       "      <td>4.864921e+06</td>\n",
       "      <td>2</td>\n",
       "      <td>1</td>\n",
       "      <td>106</td>\n",
       "      <td>2</td>\n",
       "      <td>2</td>\n",
       "      <td>23</td>\n",
       "      <td>1371713733</td>\n",
       "    </tr>\n",
       "    <tr>\n",
       "      <th>1</th>\n",
       "      <td>100</td>\n",
       "      <td>100</td>\n",
       "      <td>100</td>\n",
       "      <td>100</td>\n",
       "      <td>100</td>\n",
       "      <td>100</td>\n",
       "      <td>100</td>\n",
       "      <td>100</td>\n",
       "      <td>100</td>\n",
       "      <td>100</td>\n",
       "      <td>...</td>\n",
       "      <td>100</td>\n",
       "      <td>-7536.6212</td>\n",
       "      <td>4.864934e+06</td>\n",
       "      <td>2</td>\n",
       "      <td>1</td>\n",
       "      <td>106</td>\n",
       "      <td>2</td>\n",
       "      <td>2</td>\n",
       "      <td>23</td>\n",
       "      <td>1371713691</td>\n",
       "    </tr>\n",
       "    <tr>\n",
       "      <th>2</th>\n",
       "      <td>100</td>\n",
       "      <td>100</td>\n",
       "      <td>100</td>\n",
       "      <td>100</td>\n",
       "      <td>100</td>\n",
       "      <td>100</td>\n",
       "      <td>100</td>\n",
       "      <td>-97</td>\n",
       "      <td>100</td>\n",
       "      <td>100</td>\n",
       "      <td>...</td>\n",
       "      <td>100</td>\n",
       "      <td>-7519.1524</td>\n",
       "      <td>4.864950e+06</td>\n",
       "      <td>2</td>\n",
       "      <td>1</td>\n",
       "      <td>103</td>\n",
       "      <td>2</td>\n",
       "      <td>2</td>\n",
       "      <td>23</td>\n",
       "      <td>1371714095</td>\n",
       "    </tr>\n",
       "    <tr>\n",
       "      <th>3</th>\n",
       "      <td>100</td>\n",
       "      <td>100</td>\n",
       "      <td>100</td>\n",
       "      <td>100</td>\n",
       "      <td>100</td>\n",
       "      <td>100</td>\n",
       "      <td>100</td>\n",
       "      <td>100</td>\n",
       "      <td>100</td>\n",
       "      <td>100</td>\n",
       "      <td>...</td>\n",
       "      <td>100</td>\n",
       "      <td>-7524.5704</td>\n",
       "      <td>4.864934e+06</td>\n",
       "      <td>2</td>\n",
       "      <td>1</td>\n",
       "      <td>102</td>\n",
       "      <td>2</td>\n",
       "      <td>2</td>\n",
       "      <td>23</td>\n",
       "      <td>1371713807</td>\n",
       "    </tr>\n",
       "    <tr>\n",
       "      <th>4</th>\n",
       "      <td>100</td>\n",
       "      <td>100</td>\n",
       "      <td>100</td>\n",
       "      <td>100</td>\n",
       "      <td>100</td>\n",
       "      <td>100</td>\n",
       "      <td>100</td>\n",
       "      <td>100</td>\n",
       "      <td>100</td>\n",
       "      <td>100</td>\n",
       "      <td>...</td>\n",
       "      <td>100</td>\n",
       "      <td>-7632.1436</td>\n",
       "      <td>4.864982e+06</td>\n",
       "      <td>0</td>\n",
       "      <td>0</td>\n",
       "      <td>122</td>\n",
       "      <td>2</td>\n",
       "      <td>11</td>\n",
       "      <td>13</td>\n",
       "      <td>1369909710</td>\n",
       "    </tr>\n",
       "  </tbody>\n",
       "</table>\n",
       "<p>5 rows × 529 columns</p>\n",
       "</div>"
      ],
      "text/plain": [
       "   WAP001  WAP002  WAP003  WAP004  WAP005  WAP006  WAP007  WAP008  WAP009  \\\n",
       "0     100     100     100     100     100     100     100     100     100   \n",
       "1     100     100     100     100     100     100     100     100     100   \n",
       "2     100     100     100     100     100     100     100     -97     100   \n",
       "3     100     100     100     100     100     100     100     100     100   \n",
       "4     100     100     100     100     100     100     100     100     100   \n",
       "\n",
       "   WAP010     ...      WAP520  LONGITUDE      LATITUDE  FLOOR  BUILDINGID  \\\n",
       "0     100     ...         100 -7541.2643  4.864921e+06      2           1   \n",
       "1     100     ...         100 -7536.6212  4.864934e+06      2           1   \n",
       "2     100     ...         100 -7519.1524  4.864950e+06      2           1   \n",
       "3     100     ...         100 -7524.5704  4.864934e+06      2           1   \n",
       "4     100     ...         100 -7632.1436  4.864982e+06      0           0   \n",
       "\n",
       "   SPACEID  RELATIVEPOSITION  USERID  PHONEID   TIMESTAMP  \n",
       "0      106                 2       2       23  1371713733  \n",
       "1      106                 2       2       23  1371713691  \n",
       "2      103                 2       2       23  1371714095  \n",
       "3      102                 2       2       23  1371713807  \n",
       "4      122                 2      11       13  1369909710  \n",
       "\n",
       "[5 rows x 529 columns]"
      ]
     },
     "execution_count": 3,
     "metadata": {},
     "output_type": "execute_result"
    }
   ],
   "source": [
    "data.head()"
   ]
  },
  {
   "cell_type": "code",
   "execution_count": 4,
   "metadata": {},
   "outputs": [
    {
     "data": {
      "text/html": [
       "<div>\n",
       "<style scoped>\n",
       "    .dataframe tbody tr th:only-of-type {\n",
       "        vertical-align: middle;\n",
       "    }\n",
       "\n",
       "    .dataframe tbody tr th {\n",
       "        vertical-align: top;\n",
       "    }\n",
       "\n",
       "    .dataframe thead th {\n",
       "        text-align: right;\n",
       "    }\n",
       "</style>\n",
       "<table border=\"1\" class=\"dataframe\">\n",
       "  <thead>\n",
       "    <tr style=\"text-align: right;\">\n",
       "      <th></th>\n",
       "      <th>WAP001</th>\n",
       "      <th>WAP002</th>\n",
       "      <th>WAP003</th>\n",
       "      <th>WAP004</th>\n",
       "      <th>WAP005</th>\n",
       "      <th>WAP006</th>\n",
       "      <th>WAP007</th>\n",
       "      <th>WAP008</th>\n",
       "      <th>WAP009</th>\n",
       "      <th>WAP010</th>\n",
       "      <th>...</th>\n",
       "      <th>WAP520</th>\n",
       "      <th>LONGITUDE</th>\n",
       "      <th>LATITUDE</th>\n",
       "      <th>FLOOR</th>\n",
       "      <th>BUILDINGID</th>\n",
       "      <th>SPACEID</th>\n",
       "      <th>RELATIVEPOSITION</th>\n",
       "      <th>USERID</th>\n",
       "      <th>PHONEID</th>\n",
       "      <th>TIMESTAMP</th>\n",
       "    </tr>\n",
       "  </thead>\n",
       "  <tbody>\n",
       "    <tr>\n",
       "      <th>count</th>\n",
       "      <td>19937.000000</td>\n",
       "      <td>19937.000000</td>\n",
       "      <td>19937.0</td>\n",
       "      <td>19937.0</td>\n",
       "      <td>19937.000000</td>\n",
       "      <td>19937.000000</td>\n",
       "      <td>19937.000000</td>\n",
       "      <td>19937.000000</td>\n",
       "      <td>19937.000000</td>\n",
       "      <td>19937.000000</td>\n",
       "      <td>...</td>\n",
       "      <td>19937.0</td>\n",
       "      <td>19937.000000</td>\n",
       "      <td>1.993700e+04</td>\n",
       "      <td>19937.000000</td>\n",
       "      <td>19937.000000</td>\n",
       "      <td>19937.000000</td>\n",
       "      <td>19937.000000</td>\n",
       "      <td>19937.000000</td>\n",
       "      <td>19937.000000</td>\n",
       "      <td>1.993700e+04</td>\n",
       "    </tr>\n",
       "    <tr>\n",
       "      <th>mean</th>\n",
       "      <td>99.823644</td>\n",
       "      <td>99.820936</td>\n",
       "      <td>100.0</td>\n",
       "      <td>100.0</td>\n",
       "      <td>99.613733</td>\n",
       "      <td>97.130461</td>\n",
       "      <td>94.733661</td>\n",
       "      <td>93.820234</td>\n",
       "      <td>94.693936</td>\n",
       "      <td>99.163766</td>\n",
       "      <td>...</td>\n",
       "      <td>100.0</td>\n",
       "      <td>-7464.275947</td>\n",
       "      <td>4.864871e+06</td>\n",
       "      <td>1.674575</td>\n",
       "      <td>1.212820</td>\n",
       "      <td>148.429954</td>\n",
       "      <td>1.833024</td>\n",
       "      <td>9.068014</td>\n",
       "      <td>13.021869</td>\n",
       "      <td>1.371421e+09</td>\n",
       "    </tr>\n",
       "    <tr>\n",
       "      <th>std</th>\n",
       "      <td>5.866842</td>\n",
       "      <td>5.798156</td>\n",
       "      <td>0.0</td>\n",
       "      <td>0.0</td>\n",
       "      <td>8.615657</td>\n",
       "      <td>22.931890</td>\n",
       "      <td>30.541335</td>\n",
       "      <td>33.010404</td>\n",
       "      <td>30.305084</td>\n",
       "      <td>12.634045</td>\n",
       "      <td>...</td>\n",
       "      <td>0.0</td>\n",
       "      <td>123.402010</td>\n",
       "      <td>6.693318e+01</td>\n",
       "      <td>1.223078</td>\n",
       "      <td>0.833139</td>\n",
       "      <td>58.342106</td>\n",
       "      <td>0.372964</td>\n",
       "      <td>4.988720</td>\n",
       "      <td>5.362410</td>\n",
       "      <td>5.572054e+05</td>\n",
       "    </tr>\n",
       "    <tr>\n",
       "      <th>min</th>\n",
       "      <td>-97.000000</td>\n",
       "      <td>-90.000000</td>\n",
       "      <td>100.0</td>\n",
       "      <td>100.0</td>\n",
       "      <td>-97.000000</td>\n",
       "      <td>-98.000000</td>\n",
       "      <td>-99.000000</td>\n",
       "      <td>-98.000000</td>\n",
       "      <td>-98.000000</td>\n",
       "      <td>-99.000000</td>\n",
       "      <td>...</td>\n",
       "      <td>100.0</td>\n",
       "      <td>-7691.338400</td>\n",
       "      <td>4.864746e+06</td>\n",
       "      <td>0.000000</td>\n",
       "      <td>0.000000</td>\n",
       "      <td>1.000000</td>\n",
       "      <td>1.000000</td>\n",
       "      <td>1.000000</td>\n",
       "      <td>1.000000</td>\n",
       "      <td>1.369909e+09</td>\n",
       "    </tr>\n",
       "    <tr>\n",
       "      <th>25%</th>\n",
       "      <td>100.000000</td>\n",
       "      <td>100.000000</td>\n",
       "      <td>100.0</td>\n",
       "      <td>100.0</td>\n",
       "      <td>100.000000</td>\n",
       "      <td>100.000000</td>\n",
       "      <td>100.000000</td>\n",
       "      <td>100.000000</td>\n",
       "      <td>100.000000</td>\n",
       "      <td>100.000000</td>\n",
       "      <td>...</td>\n",
       "      <td>100.0</td>\n",
       "      <td>-7594.737000</td>\n",
       "      <td>4.864821e+06</td>\n",
       "      <td>1.000000</td>\n",
       "      <td>0.000000</td>\n",
       "      <td>110.000000</td>\n",
       "      <td>2.000000</td>\n",
       "      <td>5.000000</td>\n",
       "      <td>8.000000</td>\n",
       "      <td>1.371056e+09</td>\n",
       "    </tr>\n",
       "    <tr>\n",
       "      <th>50%</th>\n",
       "      <td>100.000000</td>\n",
       "      <td>100.000000</td>\n",
       "      <td>100.0</td>\n",
       "      <td>100.0</td>\n",
       "      <td>100.000000</td>\n",
       "      <td>100.000000</td>\n",
       "      <td>100.000000</td>\n",
       "      <td>100.000000</td>\n",
       "      <td>100.000000</td>\n",
       "      <td>100.000000</td>\n",
       "      <td>...</td>\n",
       "      <td>100.0</td>\n",
       "      <td>-7423.060900</td>\n",
       "      <td>4.864852e+06</td>\n",
       "      <td>2.000000</td>\n",
       "      <td>1.000000</td>\n",
       "      <td>129.000000</td>\n",
       "      <td>2.000000</td>\n",
       "      <td>11.000000</td>\n",
       "      <td>13.000000</td>\n",
       "      <td>1.371716e+09</td>\n",
       "    </tr>\n",
       "    <tr>\n",
       "      <th>75%</th>\n",
       "      <td>100.000000</td>\n",
       "      <td>100.000000</td>\n",
       "      <td>100.0</td>\n",
       "      <td>100.0</td>\n",
       "      <td>100.000000</td>\n",
       "      <td>100.000000</td>\n",
       "      <td>100.000000</td>\n",
       "      <td>100.000000</td>\n",
       "      <td>100.000000</td>\n",
       "      <td>100.000000</td>\n",
       "      <td>...</td>\n",
       "      <td>100.0</td>\n",
       "      <td>-7359.193000</td>\n",
       "      <td>4.864930e+06</td>\n",
       "      <td>3.000000</td>\n",
       "      <td>2.000000</td>\n",
       "      <td>207.000000</td>\n",
       "      <td>2.000000</td>\n",
       "      <td>13.000000</td>\n",
       "      <td>14.000000</td>\n",
       "      <td>1.371721e+09</td>\n",
       "    </tr>\n",
       "    <tr>\n",
       "      <th>max</th>\n",
       "      <td>100.000000</td>\n",
       "      <td>100.000000</td>\n",
       "      <td>100.0</td>\n",
       "      <td>100.0</td>\n",
       "      <td>100.000000</td>\n",
       "      <td>100.000000</td>\n",
       "      <td>100.000000</td>\n",
       "      <td>100.000000</td>\n",
       "      <td>100.000000</td>\n",
       "      <td>100.000000</td>\n",
       "      <td>...</td>\n",
       "      <td>100.0</td>\n",
       "      <td>-7300.818990</td>\n",
       "      <td>4.865017e+06</td>\n",
       "      <td>4.000000</td>\n",
       "      <td>2.000000</td>\n",
       "      <td>254.000000</td>\n",
       "      <td>2.000000</td>\n",
       "      <td>18.000000</td>\n",
       "      <td>24.000000</td>\n",
       "      <td>1.371738e+09</td>\n",
       "    </tr>\n",
       "  </tbody>\n",
       "</table>\n",
       "<p>8 rows × 529 columns</p>\n",
       "</div>"
      ],
      "text/plain": [
       "             WAP001        WAP002   WAP003   WAP004        WAP005  \\\n",
       "count  19937.000000  19937.000000  19937.0  19937.0  19937.000000   \n",
       "mean      99.823644     99.820936    100.0    100.0     99.613733   \n",
       "std        5.866842      5.798156      0.0      0.0      8.615657   \n",
       "min      -97.000000    -90.000000    100.0    100.0    -97.000000   \n",
       "25%      100.000000    100.000000    100.0    100.0    100.000000   \n",
       "50%      100.000000    100.000000    100.0    100.0    100.000000   \n",
       "75%      100.000000    100.000000    100.0    100.0    100.000000   \n",
       "max      100.000000    100.000000    100.0    100.0    100.000000   \n",
       "\n",
       "             WAP006        WAP007        WAP008        WAP009        WAP010  \\\n",
       "count  19937.000000  19937.000000  19937.000000  19937.000000  19937.000000   \n",
       "mean      97.130461     94.733661     93.820234     94.693936     99.163766   \n",
       "std       22.931890     30.541335     33.010404     30.305084     12.634045   \n",
       "min      -98.000000    -99.000000    -98.000000    -98.000000    -99.000000   \n",
       "25%      100.000000    100.000000    100.000000    100.000000    100.000000   \n",
       "50%      100.000000    100.000000    100.000000    100.000000    100.000000   \n",
       "75%      100.000000    100.000000    100.000000    100.000000    100.000000   \n",
       "max      100.000000    100.000000    100.000000    100.000000    100.000000   \n",
       "\n",
       "           ...        WAP520     LONGITUDE      LATITUDE         FLOOR  \\\n",
       "count      ...       19937.0  19937.000000  1.993700e+04  19937.000000   \n",
       "mean       ...         100.0  -7464.275947  4.864871e+06      1.674575   \n",
       "std        ...           0.0    123.402010  6.693318e+01      1.223078   \n",
       "min        ...         100.0  -7691.338400  4.864746e+06      0.000000   \n",
       "25%        ...         100.0  -7594.737000  4.864821e+06      1.000000   \n",
       "50%        ...         100.0  -7423.060900  4.864852e+06      2.000000   \n",
       "75%        ...         100.0  -7359.193000  4.864930e+06      3.000000   \n",
       "max        ...         100.0  -7300.818990  4.865017e+06      4.000000   \n",
       "\n",
       "         BUILDINGID       SPACEID  RELATIVEPOSITION        USERID  \\\n",
       "count  19937.000000  19937.000000      19937.000000  19937.000000   \n",
       "mean       1.212820    148.429954          1.833024      9.068014   \n",
       "std        0.833139     58.342106          0.372964      4.988720   \n",
       "min        0.000000      1.000000          1.000000      1.000000   \n",
       "25%        0.000000    110.000000          2.000000      5.000000   \n",
       "50%        1.000000    129.000000          2.000000     11.000000   \n",
       "75%        2.000000    207.000000          2.000000     13.000000   \n",
       "max        2.000000    254.000000          2.000000     18.000000   \n",
       "\n",
       "            PHONEID     TIMESTAMP  \n",
       "count  19937.000000  1.993700e+04  \n",
       "mean      13.021869  1.371421e+09  \n",
       "std        5.362410  5.572054e+05  \n",
       "min        1.000000  1.369909e+09  \n",
       "25%        8.000000  1.371056e+09  \n",
       "50%       13.000000  1.371716e+09  \n",
       "75%       14.000000  1.371721e+09  \n",
       "max       24.000000  1.371738e+09  \n",
       "\n",
       "[8 rows x 529 columns]"
      ]
     },
     "execution_count": 4,
     "metadata": {},
     "output_type": "execute_result"
    }
   ],
   "source": [
    "data.describe()"
   ]
  },
  {
   "cell_type": "code",
   "execution_count": 5,
   "metadata": {},
   "outputs": [
    {
     "name": "stdout",
     "output_type": "stream",
     "text": [
      "<class 'pandas.core.frame.DataFrame'>\n",
      "RangeIndex: 19937 entries, 0 to 19936\n",
      "Columns: 529 entries, WAP001 to TIMESTAMP\n",
      "dtypes: float64(2), int64(527)\n",
      "memory usage: 80.5 MB\n"
     ]
    }
   ],
   "source": [
    "data.info()"
   ]
  },
  {
   "cell_type": "code",
   "execution_count": 6,
   "metadata": {},
   "outputs": [
    {
     "data": {
      "text/plain": [
       "(19937, 529)"
      ]
     },
     "execution_count": 6,
     "metadata": {},
     "output_type": "execute_result"
    }
   ],
   "source": [
    "data.shape "
   ]
  },
  {
   "cell_type": "code",
   "execution_count": 7,
   "metadata": {},
   "outputs": [
    {
     "name": "stdout",
     "output_type": "stream",
     "text": [
      "<class 'pandas.core.frame.DataFrame'>\n",
      "RangeIndex: 19937 entries, 0 to 19936\n",
      "Data columns (total 10 columns):\n",
      "WAP520              19937 non-null int64\n",
      "LONGITUDE           19937 non-null float64\n",
      "LATITUDE            19937 non-null float64\n",
      "FLOOR               19937 non-null int64\n",
      "BUILDINGID          19937 non-null int64\n",
      "SPACEID             19937 non-null int64\n",
      "RELATIVEPOSITION    19937 non-null int64\n",
      "USERID              19937 non-null int64\n",
      "PHONEID             19937 non-null int64\n",
      "TIMESTAMP           19937 non-null int64\n",
      "dtypes: float64(2), int64(8)\n",
      "memory usage: 1.5 MB\n"
     ]
    }
   ],
   "source": [
    "data.iloc[:,-10:].info()"
   ]
  },
  {
   "cell_type": "code",
   "execution_count": 8,
   "metadata": {},
   "outputs": [
    {
     "data": {
      "text/plain": [
       "<matplotlib.axes._subplots.AxesSubplot at 0x12257fbb048>"
      ]
     },
     "execution_count": 8,
     "metadata": {},
     "output_type": "execute_result"
    },
    {
     "data": {
      "image/png": "[encoded data removed]",
      "text/plain": [
       "<matplotlib.figure.Figure at 0x1225803dac8>"
      ]
     },
     "metadata": {
      "image/png": {
       "height": 532,
       "width": 995
      }
     },
     "output_type": "display_data"
    }
   ],
   "source": [
    "msno.matrix(data.iloc[:,-10:], figsize = (16, 7), )"
   ]
  },
  {
   "cell_type": "code",
   "execution_count": 9,
   "metadata": {},
   "outputs": [
    {
     "data": {
      "text/plain": [
       "WAP001              0\n",
       "WAP002              0\n",
       "WAP003              0\n",
       "WAP004              0\n",
       "WAP005              0\n",
       "WAP006              0\n",
       "WAP007              0\n",
       "WAP008              0\n",
       "WAP009              0\n",
       "WAP010              0\n",
       "WAP011              0\n",
       "WAP012              0\n",
       "WAP013              0\n",
       "WAP014              0\n",
       "WAP015              0\n",
       "WAP016              0\n",
       "WAP017              0\n",
       "WAP018              0\n",
       "WAP019              0\n",
       "WAP020              0\n",
       "WAP021              0\n",
       "WAP022              0\n",
       "WAP023              0\n",
       "WAP024              0\n",
       "WAP025              0\n",
       "WAP026              0\n",
       "WAP027              0\n",
       "WAP028              0\n",
       "WAP029              0\n",
       "WAP030              0\n",
       "                   ..\n",
       "WAP500              0\n",
       "WAP501              0\n",
       "WAP502              0\n",
       "WAP503              0\n",
       "WAP504              0\n",
       "WAP505              0\n",
       "WAP506              0\n",
       "WAP507              0\n",
       "WAP508              0\n",
       "WAP509              0\n",
       "WAP510              0\n",
       "WAP511              0\n",
       "WAP512              0\n",
       "WAP513              0\n",
       "WAP514              0\n",
       "WAP515              0\n",
       "WAP516              0\n",
       "WAP517              0\n",
       "WAP518              0\n",
       "WAP519              0\n",
       "WAP520              0\n",
       "LONGITUDE           0\n",
       "LATITUDE            0\n",
       "FLOOR               0\n",
       "BUILDINGID          0\n",
       "SPACEID             0\n",
       "RELATIVEPOSITION    0\n",
       "USERID              0\n",
       "PHONEID             0\n",
       "TIMESTAMP           0\n",
       "Length: 529, dtype: int64"
      ]
     },
     "execution_count": 9,
     "metadata": {},
     "output_type": "execute_result"
    }
   ],
   "source": [
    "data.isnull().sum()"
   ]
  },
  {
   "cell_type": "code",
   "execution_count": 10,
   "metadata": {},
   "outputs": [
    {
     "data": {
      "text/html": [
       "<div>\n",
       "<style scoped>\n",
       "    .dataframe tbody tr th:only-of-type {\n",
       "        vertical-align: middle;\n",
       "    }\n",
       "\n",
       "    .dataframe tbody tr th {\n",
       "        vertical-align: top;\n",
       "    }\n",
       "\n",
       "    .dataframe thead th {\n",
       "        text-align: right;\n",
       "    }\n",
       "</style>\n",
       "<table border=\"1\" class=\"dataframe\">\n",
       "  <thead>\n",
       "    <tr style=\"text-align: right;\">\n",
       "      <th></th>\n",
       "      <th>TIMESTAMP</th>\n",
       "    </tr>\n",
       "  </thead>\n",
       "  <tbody>\n",
       "    <tr>\n",
       "      <th>0</th>\n",
       "      <td>1371713733</td>\n",
       "    </tr>\n",
       "    <tr>\n",
       "      <th>1</th>\n",
       "      <td>1371713691</td>\n",
       "    </tr>\n",
       "    <tr>\n",
       "      <th>2</th>\n",
       "      <td>1371714095</td>\n",
       "    </tr>\n",
       "  </tbody>\n",
       "</table>\n",
       "</div>"
      ],
      "text/plain": [
       "    TIMESTAMP\n",
       "0  1371713733\n",
       "1  1371713691\n",
       "2  1371714095"
      ]
     },
     "execution_count": 10,
     "metadata": {},
     "output_type": "execute_result"
    }
   ],
   "source": [
    "data.iloc[:3,-1:]"
   ]
  },
  {
   "cell_type": "code",
   "execution_count": 11,
   "metadata": {},
   "outputs": [
    {
     "data": {
      "text/plain": [
       "Timestamp('2013-06-20 07:35:33')"
      ]
     },
     "execution_count": 11,
     "metadata": {},
     "output_type": "execute_result"
    }
   ],
   "source": [
    "pd.to_datetime(1371713733,unit='s')"
   ]
  },
  {
   "cell_type": "code",
   "execution_count": null,
   "metadata": {},
   "outputs": [],
   "source": [
    "data[\"TIMESTAMP\"] = data['TIMESTAMP'].apply(lambda x: pd.to_datetime(x,unit='s'))"
   ]
  },
  {
   "cell_type": "code",
   "execution_count": null,
   "metadata": {},
   "outputs": [],
   "source": [
    "print(\"First Recorded Time :\")\n",
    "print(data.iloc[:1,-1:])\n",
    "print(\"Last Recorded TIme : \")\n",
    "print(data.iloc[-1:,-1:])"
   ]
  },
  {
   "cell_type": "code",
   "execution_count": null,
   "metadata": {},
   "outputs": [],
   "source": [
    "pandas_profiling.ProfileReport(data.iloc[:,-10:])"
   ]
  },
  {
   "cell_type": "code",
   "execution_count": null,
   "metadata": {},
   "outputs": [],
   "source": [
    "data.corr()"
   ]
  },
  {
   "cell_type": "code",
   "execution_count": null,
   "metadata": {},
   "outputs": [],
   "source": [
    "plt.matshow(data.corr())"
   ]
  },
  {
   "cell_type": "code",
   "execution_count": null,
   "metadata": {},
   "outputs": [],
   "source": [
    "def get_redundant_pairs(df):\n",
    "    '''Get diagonal and lower triangular pairs of correlation matrix'''\n",
    "    pairs_to_drop = set()\n",
    "    cols = df.columns\n",
    "    for i in range(0, df.shape[1]):\n",
    "        for j in range(0, i+1):\n",
    "            pairs_to_drop.add((cols[i], cols[j]))\n",
    "    return pairs_to_drop\n",
    "def get_top_abs_correlations(df, n=5):\n",
    "    au_corr = df.corr().abs().unstack()\n",
    "    labels_to_drop = get_redundant_pairs(df)\n",
    "    au_corr = au_corr.drop(labels=labels_to_drop).sort_values(ascending=False)\n",
    "    return au_corr[0:n]"
   ]
  },
  {
   "cell_type": "code",
   "execution_count": null,
   "metadata": {},
   "outputs": [],
   "source": [
    "get_top_abs_correlations(data,n=20)"
   ]
  },
  {
   "cell_type": "code",
   "execution_count": 12,
   "metadata": {},
   "outputs": [],
   "source": [
    "from sklearn.ensemble import ExtraTreesClassifier\n",
    "from sklearn.feature_selection import SelectFromModel\n",
    "from sklearn.model_selection import train_test_split"
   ]
  },
  {
   "cell_type": "code",
   "execution_count": 13,
   "metadata": {},
   "outputs": [],
   "source": [
    "\n",
    "\n",
    "X = data.drop(columns=['SPACEID'])\n",
    "y = data['SPACEID']\n",
    "\n",
    "X_train, X_test, y_train, y_test = train_test_split(X, y, train_size = 0.75, test_size = 0.25)"
   ]
  },
  {
   "cell_type": "code",
   "execution_count": 15,
   "metadata": {},
   "outputs": [
    {
     "data": {
      "text/plain": [
       "array([9.86917854e-05, 9.68568180e-05, 0.00000000e+00, 0.00000000e+00,\n",
       "       1.28465859e-04, 1.56835729e-03, 1.94290497e-03, 2.73522920e-03,\n",
       "       1.78397500e-03, 3.09092758e-04, 5.42507673e-03, 5.96794627e-03,\n",
       "       3.75562378e-03, 4.24924978e-03, 1.89776968e-03, 2.31112966e-03,\n",
       "       5.46202195e-04, 4.73424667e-04, 1.23504478e-03, 1.36280686e-03,\n",
       "       2.15102512e-04, 2.22455375e-04, 1.79986536e-03, 1.90865788e-03,\n",
       "       1.69931497e-03, 2.32596684e-03, 2.19262643e-03, 2.57932867e-03,\n",
       "       3.06524744e-03, 4.06010238e-03, 1.58138476e-03, 1.45691375e-03,\n",
       "       2.95603206e-03, 3.32061008e-03, 4.13215769e-03, 4.61093979e-03,\n",
       "       2.19631082e-03, 1.44084472e-03, 3.78787952e-03, 3.09958156e-03,\n",
       "       3.83620603e-03, 3.18047748e-03, 2.79434374e-03, 2.86096501e-03,\n",
       "       1.96746386e-03, 2.38608689e-03, 3.03285885e-03, 3.01062363e-03,\n",
       "       1.63835546e-03, 1.49961711e-03, 4.44634496e-03, 4.47861306e-03,\n",
       "       2.15458493e-03, 2.15367278e-03, 8.01373740e-05, 1.40010063e-04,\n",
       "       1.44392800e-03, 1.58900773e-03, 3.52517318e-03, 4.39556647e-03,\n",
       "       7.19820498e-03, 7.34180155e-03, 6.12206005e-03, 5.49071688e-03,\n",
       "       6.93480007e-03, 7.06645550e-03, 4.07623890e-03, 4.63080981e-03,\n",
       "       6.41940869e-03, 6.65969012e-03, 6.33989018e-04, 6.85428222e-04,\n",
       "       5.86877179e-03, 6.40984094e-03, 2.67783226e-03, 2.46217342e-03,\n",
       "       6.94955801e-03, 7.06871267e-03, 0.00000000e+00, 2.61897779e-03,\n",
       "       2.21401184e-03, 4.88205267e-03, 5.65004362e-03, 6.34630282e-03,\n",
       "       7.17427495e-03, 2.33863957e-04, 7.31902411e-03, 1.47645096e-03,\n",
       "       1.23197369e-03, 2.60757040e-03, 2.47791961e-03, 0.00000000e+00,\n",
       "       0.00000000e+00, 0.00000000e+00, 0.00000000e+00, 6.04811058e-03,\n",
       "       4.99595675e-03, 5.78566551e-03, 5.17835781e-03, 1.06495589e-04,\n",
       "       2.50696577e-03, 2.21818369e-03, 1.60946056e-03, 2.15604027e-03,\n",
       "       2.08040969e-03, 1.78026554e-03, 3.29067191e-03, 3.48797826e-03,\n",
       "       9.49159609e-04, 6.62301315e-04, 6.96944008e-04, 6.67349097e-04,\n",
       "       4.19967844e-03, 4.17393500e-03, 1.87833775e-03, 2.34522678e-03,\n",
       "       4.61316959e-03, 5.83656752e-03, 2.46683504e-03, 1.54880943e-03,\n",
       "       6.06296710e-03, 5.95817667e-03, 1.75510378e-03, 2.06498819e-03,\n",
       "       1.87318969e-03, 1.79696534e-03, 5.21631512e-03, 4.91994972e-03,\n",
       "       1.08092955e-03, 1.39732254e-03, 7.15247496e-03, 6.71747815e-03,\n",
       "       3.49811145e-05, 1.69831913e-03, 2.14588599e-03, 1.06556321e-03,\n",
       "       1.74188632e-03, 3.87236742e-03, 3.12513238e-03, 3.72971603e-03,\n",
       "       2.45359963e-03, 2.76735172e-03, 3.55797270e-03, 5.47826767e-03,\n",
       "       5.29592267e-03, 2.17597637e-03, 2.02053120e-03, 1.74128722e-03,\n",
       "       1.91994726e-03, 1.87064621e-03, 3.06386091e-03, 0.00000000e+00,\n",
       "       1.23677701e-05, 2.78706144e-03, 4.18832853e-03, 4.09055516e-03,\n",
       "       6.72309280e-05, 0.00000000e+00, 0.00000000e+00, 0.00000000e+00,\n",
       "       4.11595806e-03, 3.61368859e-03, 2.31350818e-05, 9.90558973e-04,\n",
       "       1.08818388e-03, 3.14633757e-03, 2.20666797e-03, 1.68319881e-03,\n",
       "       2.21374027e-03, 2.13826229e-03, 1.86104752e-03, 3.17303959e-03,\n",
       "       3.25189760e-03, 1.10576714e-03, 1.10065553e-03, 1.93720814e-03,\n",
       "       2.13191424e-03, 1.96229451e-03, 2.18203637e-03, 1.86767939e-03,\n",
       "       1.57778505e-03, 1.68219018e-03, 2.33822358e-03, 2.11469127e-03,\n",
       "       2.62407972e-03, 2.08416040e-03, 2.22813719e-03, 1.39028000e-03,\n",
       "       1.88975955e-03, 0.00000000e+00, 1.94101654e-03, 1.59753998e-03,\n",
       "       9.07385384e-05, 4.93250422e-06, 2.25865513e-06, 6.70892008e-05,\n",
       "       3.94182072e-05, 7.55278226e-05, 1.62158847e-05, 0.00000000e+00,\n",
       "       4.76271221e-05, 6.71219970e-05, 4.29118207e-03, 3.62787131e-03,\n",
       "       0.00000000e+00, 2.45611878e-05, 6.88912610e-05, 5.51155201e-05,\n",
       "       8.40849541e-05, 0.00000000e+00, 5.43073697e-06, 4.14213336e-05,\n",
       "       6.09836885e-06, 1.25503832e-04, 0.00000000e+00, 1.97118993e-05,\n",
       "       0.00000000e+00, 2.51543217e-04, 0.00000000e+00, 2.10054927e-05,\n",
       "       0.00000000e+00, 3.06462348e-03, 4.01638976e-03, 3.32828217e-03,\n",
       "       2.91567757e-03, 0.00000000e+00, 0.00000000e+00, 0.00000000e+00,\n",
       "       7.95113778e-04, 3.60890929e-04, 0.00000000e+00, 3.86228133e-04,\n",
       "       7.63104380e-04, 8.73345525e-04, 6.94276679e-05, 5.69513219e-04,\n",
       "       5.11505525e-04, 0.00000000e+00, 0.00000000e+00, 0.00000000e+00,\n",
       "       0.00000000e+00, 0.00000000e+00, 0.00000000e+00, 0.00000000e+00,\n",
       "       0.00000000e+00, 0.00000000e+00, 0.00000000e+00, 9.45628826e-03,\n",
       "       3.03471817e-03, 6.54315504e-05, 0.00000000e+00, 6.15996854e-06,\n",
       "       3.16144695e-03, 0.00000000e+00, 6.29442725e-04, 3.54269666e-04,\n",
       "       1.27792092e-03, 7.84858801e-04, 8.01430990e-04, 1.13524368e-03,\n",
       "       8.62770832e-04, 8.37601301e-04, 7.35443325e-04, 9.96748093e-04,\n",
       "       4.37965802e-04, 8.13115847e-06, 1.72955577e-04, 2.95825696e-03,\n",
       "       4.15030475e-04, 7.16736947e-04, 3.52650686e-04, 8.69964482e-04,\n",
       "       3.23328387e-04, 1.02130087e-03, 2.37946497e-04, 4.59636319e-05,\n",
       "       5.39075919e-03, 1.13729913e-03, 1.49725884e-03, 7.52345022e-04,\n",
       "       5.80326116e-04, 1.16590055e-03, 9.40982678e-06, 2.06339525e-03,\n",
       "       1.16716970e-04, 1.68362735e-03, 9.58106486e-05, 1.18732552e-03,\n",
       "       1.23458614e-03, 1.05826350e-03, 9.21623886e-05, 3.73394706e-04,\n",
       "       0.00000000e+00, 2.34517415e-03, 1.37448584e-03, 0.00000000e+00,\n",
       "       0.00000000e+00, 4.34817041e-05, 3.97668511e-04, 6.07445001e-04,\n",
       "       0.00000000e+00, 1.23473901e-04, 0.00000000e+00, 0.00000000e+00,\n",
       "       2.65929729e-04, 9.87709212e-05, 0.00000000e+00, 7.34728288e-04,\n",
       "       8.06276245e-05, 1.18952225e-03, 6.83974287e-04, 9.23394720e-04,\n",
       "       1.04333001e-03, 1.06553150e-03, 9.16245417e-04, 1.06619825e-03,\n",
       "       1.28185282e-03, 6.63635948e-04, 8.52997576e-04, 2.78864993e-04,\n",
       "       0.00000000e+00, 3.62859244e-04, 2.56519680e-03, 1.77059427e-04,\n",
       "       5.62985556e-04, 1.01007006e-04, 1.11700154e-03, 6.13350373e-04,\n",
       "       1.17521035e-03, 4.28323146e-05, 1.17653575e-04, 5.00049009e-03,\n",
       "       0.00000000e+00, 1.38980857e-03, 1.24741104e-03, 1.39162244e-03,\n",
       "       6.42931041e-04, 8.71203412e-04, 0.00000000e+00, 1.61389710e-03,\n",
       "       2.33188053e-04, 1.19662153e-03, 3.49159653e-05, 9.33293168e-04,\n",
       "       1.93572687e-03, 1.05482929e-03, 7.45356193e-06, 3.21225186e-04,\n",
       "       0.00000000e+00, 2.42842940e-03, 1.71988681e-03, 1.14575393e-05,\n",
       "       0.00000000e+00, 1.63514218e-05, 5.04808365e-04, 6.52099622e-04,\n",
       "       0.00000000e+00, 0.00000000e+00, 1.97765303e-04, 0.00000000e+00,\n",
       "       1.78697754e-05, 2.09167488e-04, 4.40968888e-05, 9.18877849e-04,\n",
       "       0.00000000e+00, 1.07314568e-03, 7.63029880e-04, 1.08155414e-03,\n",
       "       9.01301001e-04, 5.54975958e-04, 9.48495224e-04, 8.52293171e-04,\n",
       "       0.00000000e+00, 8.42542230e-04, 1.16323183e-03, 1.07457215e-03,\n",
       "       2.37398584e-04, 3.03354758e-05, 2.45886197e-04, 2.70253016e-03,\n",
       "       2.87075143e-04, 4.99312504e-04, 2.24469318e-04, 1.01186252e-03,\n",
       "       5.07603346e-04, 1.39282852e-03, 5.11543823e-05, 1.94773150e-04,\n",
       "       4.92340679e-03, 9.17302351e-04, 1.46934608e-03, 7.52940372e-04,\n",
       "       4.30729393e-04, 8.41905947e-04, 2.73234866e-05, 1.40082827e-03,\n",
       "       8.44583785e-05, 1.07998023e-03, 3.12951376e-04, 1.06233014e-03,\n",
       "       1.77137161e-03, 1.32075386e-03, 2.63187188e-04, 2.40526092e-03,\n",
       "       1.40482422e-03, 6.77596539e-06, 0.00000000e+00, 3.72581573e-06,\n",
       "       7.04552761e-04, 8.29621851e-04, 2.15245083e-04, 0.00000000e+00,\n",
       "       2.17952571e-04, 6.15465822e-06, 6.82518109e-04, 0.00000000e+00,\n",
       "       4.43942560e-06, 1.05098573e-03, 0.00000000e+00, 0.00000000e+00,\n",
       "       1.34650594e-05, 1.29631346e-04, 0.00000000e+00, 6.00247379e-05,\n",
       "       0.00000000e+00, 9.45999440e-05, 7.45356193e-06, 2.61843794e-03,\n",
       "       0.00000000e+00, 2.72081072e-05, 0.00000000e+00, 6.25248951e-04,\n",
       "       0.00000000e+00, 2.13373489e-03, 4.11129189e-04, 6.89757544e-05,\n",
       "       0.00000000e+00, 0.00000000e+00, 9.82311760e-04, 6.18008696e-05,\n",
       "       0.00000000e+00, 0.00000000e+00, 4.08865237e-04, 0.00000000e+00,\n",
       "       0.00000000e+00, 6.22155030e-05, 6.39911127e-04, 7.79494056e-05,\n",
       "       6.99918157e-04, 1.41719538e-06, 0.00000000e+00, 3.38454376e-03,\n",
       "       1.26798765e-04, 1.53965097e-05, 1.87435711e-04, 1.74582009e-03,\n",
       "       4.51731026e-06, 0.00000000e+00, 3.70348918e-04, 4.39854452e-04,\n",
       "       2.40974969e-04, 2.04164635e-05, 8.73346651e-06, 0.00000000e+00,\n",
       "       4.72531487e-04, 6.47076225e-05, 4.47466449e-04, 8.05918945e-05,\n",
       "       1.02675617e-05, 0.00000000e+00, 6.06187533e-05, 1.49191433e-05,\n",
       "       2.13644908e-04, 0.00000000e+00, 0.00000000e+00, 1.34407815e-04,\n",
       "       6.77596539e-06, 5.25739783e-03, 3.61221822e-03, 7.93551709e-04,\n",
       "       2.75014527e-03, 0.00000000e+00, 1.58099264e-03, 3.01175514e-03,\n",
       "       0.00000000e+00, 3.35153962e-03, 0.00000000e+00, 0.00000000e+00,\n",
       "       6.01910567e-03, 8.49255984e-05, 0.00000000e+00, 2.87114767e-04,\n",
       "       4.47005460e-04, 5.95966501e-04, 5.65577404e-03, 7.57644338e-03,\n",
       "       0.00000000e+00, 3.26161171e-04, 3.72193136e-04, 3.00689079e-04,\n",
       "       6.94023440e-03, 7.85273892e-03, 4.64234221e-03, 2.00786572e-04,\n",
       "       0.00000000e+00, 1.55009003e-04, 0.00000000e+00, 7.88258708e-04,\n",
       "       1.24226032e-05, 9.35728554e-06, 3.59403030e-03, 8.74715533e-06,\n",
       "       3.31299331e-04, 3.29896837e-04, 2.46817193e-04, 5.66330164e-03,\n",
       "       6.66740264e-03, 1.93524648e-04, 1.02348079e-05, 0.00000000e+00,\n",
       "       6.67170597e-02, 6.73383065e-02, 1.46999191e-02, 1.05117377e-03,\n",
       "       1.02367861e-02, 1.23561706e-02, 1.24435468e-02, 3.76605846e-02])"
      ]
     },
     "execution_count": 15,
     "metadata": {},
     "output_type": "execute_result"
    }
   ],
   "source": [
    "clf = ExtraTreesClassifier()\n",
    "clf = clf.fit(X_train, y_train)\n",
    "clf.feature_importances_"
   ]
  },
  {
   "cell_type": "code",
   "execution_count": null,
   "metadata": {},
   "outputs": [],
   "source": [
    "def rankPrintImportance(importance,df):\n",
    "    rank = sorted(zip(map(lambda x: x, importance), list(df)), \n",
    "                 reverse=True)\n",
    "    for ran in rank:\n",
    "        print(ran)"
   ]
  },
  {
   "cell_type": "code",
   "execution_count": 31,
   "metadata": {},
   "outputs": [
    {
     "data": {
      "text/plain": [
       "Text(0,0.5,'Importance Score')"
      ]
     },
     "execution_count": 31,
     "metadata": {},
     "output_type": "execute_result"
    },
    {
     "data": {
      "image/png": "[encoded data removed]",
      "text/plain": [
       "<matplotlib.figure.Figure at 0x1225874c940>"
      ]
     },
     "metadata": {
      "image/png": {
       "height": 513,
       "width": 902
      }
     },
     "output_type": "display_data"
    }
   ],
   "source": [
    "feat_imp = pd.Series(clf.feature_importances_,X_train.columns).sort_values(ascending=False)\n",
    "feat_imp = feat_imp[7:]\n",
    "feat_imp = feat_imp[:60]\n",
    "feat_imp.plot(kind='bar', title='Feature Importances',figsize = (15,8))\n",
    "plt.ylabel('Importance Score')"
   ]
  },
  {
   "cell_type": "code",
   "execution_count": 34,
   "metadata": {},
   "outputs": [
    {
     "data": {
      "text/plain": [
       "LATITUDE            0.067338\n",
       "LONGITUDE           0.066717\n",
       "TIMESTAMP           0.037661\n",
       "FLOOR               0.014700\n",
       "PHONEID             0.012444\n",
       "USERID              0.012356\n",
       "RELATIVEPOSITION    0.010237\n",
       "WAP248              0.009456\n",
       "WAP502              0.007853\n",
       "WAP496              0.007576\n",
       "dtype: float64"
      ]
     },
     "execution_count": 34,
     "metadata": {},
     "output_type": "execute_result"
    }
   ],
   "source": [
    "feat_imp = pd.Series(clf.feature_importances_,X_train.columns).sort_values(ascending=False)\n",
    "feat_imp[:10]"
   ]
  },
  {
   "cell_type": "code",
   "execution_count": 32,
   "metadata": {},
   "outputs": [
    {
     "name": "stderr",
     "output_type": "stream",
     "text": [
      "C:\\Users\\sreer\\Anaconda3\\envs\\learn_python\\lib\\site-packages\\sklearn\\cross_validation.py:41: DeprecationWarning:\n",
      "\n",
      "This module was deprecated in version 0.18 in favor of the model_selection module into which all the refactored classes and functions are moved. Also note that the interface of the new CV iterators are different from that of this module. This module will be removed in 0.20.\n",
      "\n"
     ]
    }
   ],
   "source": [
    "from xgboost import XGBClassifier\n",
    "from sklearn.metrics import r2_score\n",
    "from xgboost import plot_importance\n",
    "from sklearn.preprocessing import MinMaxScaler"
   ]
  },
  {
   "cell_type": "code",
   "execution_count": 35,
   "metadata": {},
   "outputs": [
    {
     "name": "stderr",
     "output_type": "stream",
     "text": [
      "C:\\Users\\sreer\\Anaconda3\\envs\\learn_python\\lib\\site-packages\\sklearn\\preprocessing\\label.py:151: DeprecationWarning:\n",
      "\n",
      "The truth value of an empty array is ambiguous. Returning False, but in future this will result in an error. Use `array.size > 0` to check that an array is not empty.\n",
      "\n"
     ]
    },
    {
     "data": {
      "text/plain": [
       "Text(0,0.5,'Importance Score')"
      ]
     },
     "execution_count": 35,
     "metadata": {},
     "output_type": "execute_result"
    },
    {
     "data": {
      "image/png": "[encoded data removed]",
      "text/plain": [
       "<matplotlib.figure.Figure at 0x122585da4e0>"
      ]
     },
     "metadata": {
      "image/png": {
       "height": 531,
       "width": 904
      }
     },
     "output_type": "display_data"
    }
   ],
   "source": [
    "data2 = data\n",
    "X = data2.drop(columns=['SPACEID','LATITUDE','LONGITUDE','TIMESTAMP','FLOOR','PHONEID','USERID',''])\n",
    "y = data2['SPACEID']\n",
    "\n",
    "# min_max_scaler = MinMaxScaler()\n",
    "# X = min_max_scaler.fit_transform(X)\n",
    "# y = min_max_scaler.fit_transform(y.reshape(1, -1))\n",
    "\n",
    "X_train, X_test, y_train, y_test = train_test_split(X, y, train_size = 0.75, test_size = 0.25)\n",
    "model = XGBClassifier()\n",
    "model.fit(X_train, y_train)\n",
    "y_pred = model.predict(X_test)\n"
   ]
  },
  {
   "cell_type": "code",
   "execution_count": 36,
   "metadata": {},
   "outputs": [
    {
     "data": {
      "text/plain": [
       "Text(0,0.5,'Importance Score')"
      ]
     },
     "execution_count": 36,
     "metadata": {},
     "output_type": "execute_result"
    },
    {
     "data": {
      "image/png": "[encoded data removed]",
      "text/plain": [
       "<matplotlib.figure.Figure at 0x1220d46ea90>"
      ]
     },
     "metadata": {
      "image/png": {
       "height": 513,
       "width": 902
      }
     },
     "output_type": "display_data"
    }
   ],
   "source": [
    "feat_imp = pd.Series(model.feature_importances_,X_train.columns).sort_values(ascending=False)\n",
    "feat_imp = feat_imp[7:]\n",
    "feat_imp = feat_imp[:60]\n",
    "feat_imp.plot(kind='bar', title='Feature Importances',figsize = (15,8))\n",
    "plt.ylabel('Importance Score')"
   ]
  },
  {
   "cell_type": "code",
   "execution_count": 37,
   "metadata": {},
   "outputs": [],
   "source": [
    "from sklearn.ensemble import RandomForestClassifier\n",
    "from boruta import BorutaPy"
   ]
  },
  {
   "cell_type": "code",
   "execution_count": 38,
   "metadata": {},
   "outputs": [
    {
     "name": "stdout",
     "output_type": "stream",
     "text": [
      "[[100 100 100 ... 100 100   1]\n",
      " [100 100 100 ... 100 100   1]\n",
      " [100 100 100 ... 100 100   1]\n",
      " ...\n",
      " [100 100 100 ... 100 100   1]\n",
      " [100 100 100 ... 100 100   1]\n",
      " [100 100 100 ... 100 100   1]] [106 106 103 ...  13 113 112]\n",
      "Iteration: \t1 / 100\n",
      "Confirmed: \t0\n",
      "Tentative: \t521\n",
      "Rejected: \t0\n",
      "Iteration: \t2 / 100\n",
      "Confirmed: \t0\n",
      "Tentative: \t521\n",
      "Rejected: \t0\n",
      "Iteration: \t3 / 100\n",
      "Confirmed: \t0\n",
      "Tentative: \t521\n",
      "Rejected: \t0\n",
      "Iteration: \t4 / 100\n",
      "Confirmed: \t0\n",
      "Tentative: \t521\n",
      "Rejected: \t0\n",
      "Iteration: \t5 / 100\n",
      "Confirmed: \t0\n",
      "Tentative: \t521\n",
      "Rejected: \t0\n",
      "Iteration: \t6 / 100\n",
      "Confirmed: \t0\n",
      "Tentative: \t521\n",
      "Rejected: \t0\n",
      "Iteration: \t7 / 100\n",
      "Confirmed: \t0\n",
      "Tentative: \t521\n",
      "Rejected: \t0\n",
      "Iteration: \t8 / 100\n",
      "Confirmed: \t0\n",
      "Tentative: \t35\n",
      "Rejected: \t486\n"
     ]
    },
    {
     "name": "stderr",
     "output_type": "stream",
     "text": [
      "C:\\Users\\sreer\\Anaconda3\\envs\\learn_python\\lib\\site-packages\\boruta\\boruta_py.py:418: RuntimeWarning:\n",
      "\n",
      "invalid value encountered in greater\n",
      "\n"
     ]
    },
    {
     "name": "stdout",
     "output_type": "stream",
     "text": [
      "Iteration: \t9 / 100\n",
      "Confirmed: \t0\n",
      "Tentative: \t35\n",
      "Rejected: \t486\n"
     ]
    },
    {
     "name": "stderr",
     "output_type": "stream",
     "text": [
      "C:\\Users\\sreer\\Anaconda3\\envs\\learn_python\\lib\\site-packages\\boruta\\boruta_py.py:418: RuntimeWarning:\n",
      "\n",
      "invalid value encountered in greater\n",
      "\n"
     ]
    },
    {
     "name": "stdout",
     "output_type": "stream",
     "text": [
      "Iteration: \t10 / 100\n",
      "Confirmed: \t0\n",
      "Tentative: \t35\n",
      "Rejected: \t486\n"
     ]
    },
    {
     "name": "stderr",
     "output_type": "stream",
     "text": [
      "C:\\Users\\sreer\\Anaconda3\\envs\\learn_python\\lib\\site-packages\\boruta\\boruta_py.py:418: RuntimeWarning:\n",
      "\n",
      "invalid value encountered in greater\n",
      "\n"
     ]
    },
    {
     "name": "stdout",
     "output_type": "stream",
     "text": [
      "Iteration: \t11 / 100\n",
      "Confirmed: \t0\n",
      "Tentative: \t35\n",
      "Rejected: \t486\n"
     ]
    },
    {
     "name": "stderr",
     "output_type": "stream",
     "text": [
      "C:\\Users\\sreer\\Anaconda3\\envs\\learn_python\\lib\\site-packages\\boruta\\boruta_py.py:418: RuntimeWarning:\n",
      "\n",
      "invalid value encountered in greater\n",
      "\n"
     ]
    },
    {
     "name": "stdout",
     "output_type": "stream",
     "text": [
      "Iteration: \t12 / 100\n",
      "Confirmed: \t0\n",
      "Tentative: \t35\n",
      "Rejected: \t486\n"
     ]
    },
    {
     "name": "stderr",
     "output_type": "stream",
     "text": [
      "C:\\Users\\sreer\\Anaconda3\\envs\\learn_python\\lib\\site-packages\\boruta\\boruta_py.py:418: RuntimeWarning:\n",
      "\n",
      "invalid value encountered in greater\n",
      "\n"
     ]
    },
    {
     "name": "stdout",
     "output_type": "stream",
     "text": [
      "Iteration: \t13 / 100\n",
      "Confirmed: \t0\n",
      "Tentative: \t35\n",
      "Rejected: \t486\n"
     ]
    },
    {
     "name": "stderr",
     "output_type": "stream",
     "text": [
      "C:\\Users\\sreer\\Anaconda3\\envs\\learn_python\\lib\\site-packages\\boruta\\boruta_py.py:418: RuntimeWarning:\n",
      "\n",
      "invalid value encountered in greater\n",
      "\n"
     ]
    },
    {
     "name": "stdout",
     "output_type": "stream",
     "text": [
      "Iteration: \t14 / 100\n",
      "Confirmed: \t0\n",
      "Tentative: \t34\n",
      "Rejected: \t487\n"
     ]
    },
    {
     "name": "stderr",
     "output_type": "stream",
     "text": [
      "C:\\Users\\sreer\\Anaconda3\\envs\\learn_python\\lib\\site-packages\\boruta\\boruta_py.py:418: RuntimeWarning:\n",
      "\n",
      "invalid value encountered in greater\n",
      "\n"
     ]
    },
    {
     "name": "stdout",
     "output_type": "stream",
     "text": [
      "Iteration: \t15 / 100\n",
      "Confirmed: \t0\n",
      "Tentative: \t34\n",
      "Rejected: \t487\n"
     ]
    },
    {
     "name": "stderr",
     "output_type": "stream",
     "text": [
      "C:\\Users\\sreer\\Anaconda3\\envs\\learn_python\\lib\\site-packages\\boruta\\boruta_py.py:418: RuntimeWarning:\n",
      "\n",
      "invalid value encountered in greater\n",
      "\n"
     ]
    },
    {
     "name": "stdout",
     "output_type": "stream",
     "text": [
      "Iteration: \t16 / 100\n",
      "Confirmed: \t0\n",
      "Tentative: \t34\n",
      "Rejected: \t487\n"
     ]
    },
    {
     "name": "stderr",
     "output_type": "stream",
     "text": [
      "C:\\Users\\sreer\\Anaconda3\\envs\\learn_python\\lib\\site-packages\\boruta\\boruta_py.py:418: RuntimeWarning:\n",
      "\n",
      "invalid value encountered in greater\n",
      "\n"
     ]
    },
    {
     "name": "stdout",
     "output_type": "stream",
     "text": [
      "Iteration: \t17 / 100\n",
      "Confirmed: \t0\n",
      "Tentative: \t34\n",
      "Rejected: \t487\n"
     ]
    },
    {
     "name": "stderr",
     "output_type": "stream",
     "text": [
      "C:\\Users\\sreer\\Anaconda3\\envs\\learn_python\\lib\\site-packages\\boruta\\boruta_py.py:418: RuntimeWarning:\n",
      "\n",
      "invalid value encountered in greater\n",
      "\n"
     ]
    },
    {
     "name": "stdout",
     "output_type": "stream",
     "text": [
      "Iteration: \t18 / 100\n",
      "Confirmed: \t0\n",
      "Tentative: \t34\n",
      "Rejected: \t487\n"
     ]
    },
    {
     "name": "stderr",
     "output_type": "stream",
     "text": [
      "C:\\Users\\sreer\\Anaconda3\\envs\\learn_python\\lib\\site-packages\\boruta\\boruta_py.py:418: RuntimeWarning:\n",
      "\n",
      "invalid value encountered in greater\n",
      "\n"
     ]
    },
    {
     "name": "stdout",
     "output_type": "stream",
     "text": [
      "Iteration: \t19 / 100\n",
      "Confirmed: \t0\n",
      "Tentative: \t34\n",
      "Rejected: \t487\n"
     ]
    },
    {
     "name": "stderr",
     "output_type": "stream",
     "text": [
      "C:\\Users\\sreer\\Anaconda3\\envs\\learn_python\\lib\\site-packages\\boruta\\boruta_py.py:418: RuntimeWarning:\n",
      "\n",
      "invalid value encountered in greater\n",
      "\n"
     ]
    },
    {
     "name": "stdout",
     "output_type": "stream",
     "text": [
      "Iteration: \t20 / 100\n",
      "Confirmed: \t0\n",
      "Tentative: \t33\n",
      "Rejected: \t488\n"
     ]
    },
    {
     "name": "stderr",
     "output_type": "stream",
     "text": [
      "C:\\Users\\sreer\\Anaconda3\\envs\\learn_python\\lib\\site-packages\\boruta\\boruta_py.py:418: RuntimeWarning:\n",
      "\n",
      "invalid value encountered in greater\n",
      "\n"
     ]
    },
    {
     "name": "stdout",
     "output_type": "stream",
     "text": [
      "Iteration: \t21 / 100\n",
      "Confirmed: \t0\n",
      "Tentative: \t33\n",
      "Rejected: \t488\n"
     ]
    },
    {
     "name": "stderr",
     "output_type": "stream",
     "text": [
      "C:\\Users\\sreer\\Anaconda3\\envs\\learn_python\\lib\\site-packages\\boruta\\boruta_py.py:418: RuntimeWarning:\n",
      "\n",
      "invalid value encountered in greater\n",
      "\n"
     ]
    },
    {
     "name": "stdout",
     "output_type": "stream",
     "text": [
      "Iteration: \t22 / 100\n",
      "Confirmed: \t0\n",
      "Tentative: \t33\n",
      "Rejected: \t488\n"
     ]
    },
    {
     "name": "stderr",
     "output_type": "stream",
     "text": [
      "C:\\Users\\sreer\\Anaconda3\\envs\\learn_python\\lib\\site-packages\\boruta\\boruta_py.py:418: RuntimeWarning:\n",
      "\n",
      "invalid value encountered in greater\n",
      "\n"
     ]
    },
    {
     "name": "stdout",
     "output_type": "stream",
     "text": [
      "Iteration: \t23 / 100\n",
      "Confirmed: \t0\n",
      "Tentative: \t33\n",
      "Rejected: \t488\n"
     ]
    },
    {
     "name": "stderr",
     "output_type": "stream",
     "text": [
      "C:\\Users\\sreer\\Anaconda3\\envs\\learn_python\\lib\\site-packages\\boruta\\boruta_py.py:418: RuntimeWarning:\n",
      "\n",
      "invalid value encountered in greater\n",
      "\n"
     ]
    },
    {
     "name": "stdout",
     "output_type": "stream",
     "text": [
      "Iteration: \t24 / 100\n",
      "Confirmed: \t0\n",
      "Tentative: \t33\n",
      "Rejected: \t488\n"
     ]
    },
    {
     "name": "stderr",
     "output_type": "stream",
     "text": [
      "C:\\Users\\sreer\\Anaconda3\\envs\\learn_python\\lib\\site-packages\\boruta\\boruta_py.py:418: RuntimeWarning:\n",
      "\n",
      "invalid value encountered in greater\n",
      "\n"
     ]
    },
    {
     "name": "stdout",
     "output_type": "stream",
     "text": [
      "Iteration: \t25 / 100\n",
      "Confirmed: \t0\n",
      "Tentative: \t33\n",
      "Rejected: \t488\n"
     ]
    },
    {
     "name": "stderr",
     "output_type": "stream",
     "text": [
      "C:\\Users\\sreer\\Anaconda3\\envs\\learn_python\\lib\\site-packages\\boruta\\boruta_py.py:418: RuntimeWarning:\n",
      "\n",
      "invalid value encountered in greater\n",
      "\n"
     ]
    },
    {
     "name": "stdout",
     "output_type": "stream",
     "text": [
      "Iteration: \t26 / 100\n",
      "Confirmed: \t0\n",
      "Tentative: \t33\n",
      "Rejected: \t488\n"
     ]
    },
    {
     "name": "stderr",
     "output_type": "stream",
     "text": [
      "C:\\Users\\sreer\\Anaconda3\\envs\\learn_python\\lib\\site-packages\\boruta\\boruta_py.py:418: RuntimeWarning:\n",
      "\n",
      "invalid value encountered in greater\n",
      "\n"
     ]
    },
    {
     "name": "stdout",
     "output_type": "stream",
     "text": [
      "Iteration: \t27 / 100\n",
      "Confirmed: \t0\n",
      "Tentative: \t33\n",
      "Rejected: \t488\n"
     ]
    },
    {
     "name": "stderr",
     "output_type": "stream",
     "text": [
      "C:\\Users\\sreer\\Anaconda3\\envs\\learn_python\\lib\\site-packages\\boruta\\boruta_py.py:418: RuntimeWarning:\n",
      "\n",
      "invalid value encountered in greater\n",
      "\n"
     ]
    },
    {
     "name": "stdout",
     "output_type": "stream",
     "text": [
      "Iteration: \t28 / 100\n",
      "Confirmed: \t0\n",
      "Tentative: \t33\n",
      "Rejected: \t488\n"
     ]
    },
    {
     "name": "stderr",
     "output_type": "stream",
     "text": [
      "C:\\Users\\sreer\\Anaconda3\\envs\\learn_python\\lib\\site-packages\\boruta\\boruta_py.py:418: RuntimeWarning:\n",
      "\n",
      "invalid value encountered in greater\n",
      "\n"
     ]
    },
    {
     "name": "stdout",
     "output_type": "stream",
     "text": [
      "Iteration: \t29 / 100\n",
      "Confirmed: \t0\n",
      "Tentative: \t33\n",
      "Rejected: \t488\n"
     ]
    },
    {
     "name": "stderr",
     "output_type": "stream",
     "text": [
      "C:\\Users\\sreer\\Anaconda3\\envs\\learn_python\\lib\\site-packages\\boruta\\boruta_py.py:418: RuntimeWarning:\n",
      "\n",
      "invalid value encountered in greater\n",
      "\n"
     ]
    },
    {
     "name": "stdout",
     "output_type": "stream",
     "text": [
      "Iteration: \t30 / 100\n",
      "Confirmed: \t0\n",
      "Tentative: \t33\n",
      "Rejected: \t488\n"
     ]
    },
    {
     "name": "stderr",
     "output_type": "stream",
     "text": [
      "C:\\Users\\sreer\\Anaconda3\\envs\\learn_python\\lib\\site-packages\\boruta\\boruta_py.py:418: RuntimeWarning:\n",
      "\n",
      "invalid value encountered in greater\n",
      "\n"
     ]
    },
    {
     "name": "stdout",
     "output_type": "stream",
     "text": [
      "Iteration: \t31 / 100\n",
      "Confirmed: \t0\n",
      "Tentative: \t33\n",
      "Rejected: \t488\n"
     ]
    },
    {
     "name": "stderr",
     "output_type": "stream",
     "text": [
      "C:\\Users\\sreer\\Anaconda3\\envs\\learn_python\\lib\\site-packages\\boruta\\boruta_py.py:418: RuntimeWarning:\n",
      "\n",
      "invalid value encountered in greater\n",
      "\n"
     ]
    },
    {
     "name": "stdout",
     "output_type": "stream",
     "text": [
      "Iteration: \t32 / 100\n",
      "Confirmed: \t0\n",
      "Tentative: \t31\n",
      "Rejected: \t490\n"
     ]
    },
    {
     "name": "stderr",
     "output_type": "stream",
     "text": [
      "C:\\Users\\sreer\\Anaconda3\\envs\\learn_python\\lib\\site-packages\\boruta\\boruta_py.py:418: RuntimeWarning:\n",
      "\n",
      "invalid value encountered in greater\n",
      "\n"
     ]
    },
    {
     "name": "stdout",
     "output_type": "stream",
     "text": [
      "Iteration: \t33 / 100\n",
      "Confirmed: \t0\n",
      "Tentative: \t31\n",
      "Rejected: \t490\n",
      "Iteration: \t34 / 100\n",
      "Confirmed: \t0\n",
      "Tentative: \t0\n",
      "Rejected: \t521\n",
      "\n",
      "\n",
      "BorutaPy finished running.\n",
      "\n",
      "Iteration: \t35 / 100\n",
      "Confirmed: \t0\n",
      "Tentative: \t0\n",
      "Rejected: \t521\n"
     ]
    },
    {
     "name": "stderr",
     "output_type": "stream",
     "text": [
      "C:\\Users\\sreer\\Anaconda3\\envs\\learn_python\\lib\\site-packages\\boruta\\boruta_py.py:418: RuntimeWarning:\n",
      "\n",
      "invalid value encountered in greater\n",
      "\n"
     ]
    },
    {
     "data": {
      "text/plain": [
       "array([370, 368, 495, 495, 342, 229, 208, 104, 147, 330,  31,  24,  62,\n",
       "        65,  98,  93, 310, 314, 191, 209, 337, 348, 182, 186, 139, 134,\n",
       "       173, 169,  72,  67, 204, 211,  88,  83,  59,  58, 138, 147,  86,\n",
       "        84,  73,  70, 106, 102, 187, 161,  96,  94, 197, 184,  49,  52,\n",
       "       125, 118, 355, 351, 216, 212,  60,  54,  21,   9,  37,  32,  10,\n",
       "         7,  55,  56,  18,  11, 276, 273,  30,  28, 128, 125,  18,  12,\n",
       "       452, 118, 117,  38,  40,  22,  22, 325,   5, 188, 171, 113, 121,\n",
       "       495, 495, 495, 495,  43,  40,  35,  34, 345, 134, 134, 136, 121,\n",
       "       130, 132,  80,  75, 258, 253, 251, 256,  66,  62, 100,  89,  33,\n",
       "        26, 116, 110,  16,  16, 154, 149, 163, 153,  39,  42, 194, 192,\n",
       "        12,  20, 387, 131, 143, 200, 178,  68,  69,  94, 106,  92,  76,\n",
       "        36,  14, 140, 152, 185, 180, 150, 111, 495, 439, 115,  53,  51,\n",
       "       384, 495, 495, 495,  57,  62, 364, 227, 227, 105, 103, 144, 142,\n",
       "       147, 156,  81,  79, 196, 201, 112, 120, 127, 123, 159, 150, 178,\n",
       "       154, 129, 124, 141, 137, 183, 161, 456, 166, 163, 375, 388, 419,\n",
       "       363, 409, 358, 411, 444, 380, 374,  44,  48, 448, 407, 408, 395,\n",
       "       394, 446, 451, 422, 467, 356, 495, 400, 495, 335, 410, 415, 455,\n",
       "        81,  86,  76,  90, 495, 495, 466, 275, 318, 442, 294, 287, 269,\n",
       "       361, 299, 288, 495, 495, 495, 495, 495, 495, 495, 495, 495, 495,\n",
       "         2, 101, 402, 423, 450,  85, 495, 232, 272, 245, 241, 243, 233,\n",
       "       220, 206, 249, 263, 313, 428, 366,  96, 309, 280, 306, 270, 300,\n",
       "       207, 349, 373,  47, 212, 181, 250, 283, 199, 436, 144, 380, 158,\n",
       "       364, 214, 215, 256, 371, 320, 495, 176, 205, 495, 417, 390, 296,\n",
       "       289, 495, 354, 495, 495, 336, 383, 495, 260, 377, 230, 266, 240,\n",
       "       255, 237, 235, 224, 217, 254, 271, 345, 432, 342, 109, 350, 297,\n",
       "       347, 247, 292, 210, 367, 368,  46, 495, 202, 166, 225, 291, 219,\n",
       "       462, 161, 377, 173, 398, 218, 190, 251, 440, 326, 495, 168, 198,\n",
       "       413, 495, 441, 317, 285, 444, 411, 327, 495, 434, 329, 415, 274,\n",
       "       495, 239, 267, 238, 236, 263, 247, 233, 453, 227, 259, 265, 330,\n",
       "       404, 357, 114, 321, 308, 328, 243, 304, 221, 386, 340,  49, 230,\n",
       "       189, 261, 310, 223, 437, 175, 389, 176, 324, 222, 192, 246, 323,\n",
       "       157, 203, 432, 464, 427, 292, 277, 345, 429, 353, 443, 278, 495,\n",
       "       421, 243, 495, 464, 438, 361, 495, 376, 403, 382, 462, 108, 495,\n",
       "       406, 429, 279, 495, 172, 286, 361, 431, 495, 262, 392, 495, 495,\n",
       "       322, 495, 495, 401, 281, 397, 268, 446, 495,  98, 371, 405, 312,\n",
       "       194, 390, 495, 295, 290, 332, 393, 420, 462, 297, 395, 338, 380,\n",
       "       424, 460, 415, 417, 339, 454, 448, 341, 459,   5,  71, 281,  78,\n",
       "       495, 170,  91, 495,  73, 495, 495,  28, 384, 495, 318, 302, 302,\n",
       "        24,   3, 495, 316, 306, 302,   8,   4,  45, 334, 435, 359, 458,\n",
       "       284, 425, 457,  64, 399, 315, 306, 333,  28,  14, 352, 425, 495,\n",
       "       165])"
      ]
     },
     "execution_count": 38,
     "metadata": {},
     "output_type": "execute_result"
    }
   ],
   "source": [
    " \n",
    "# load X and y\n",
    "X = data.drop(columns=['SPACEID','LATITUDE','LONGITUDE','TIMESTAMP','FLOOR','PHONEID','USERID','RELATIVEPOSITION']).values\n",
    "y = data['SPACEID'].values\n",
    "print(X,y)\n",
    "# X_train, X_test, y_train, y_test = train_test_split(X, y, train_size = 0.75, test_size = 0.25)\n",
    "\n",
    "# define random forest classifier, with utilising all cores and\n",
    "# sampling in proportion to y labels\n",
    "forest = RandomForestClassifier(n_jobs=-1)\n",
    " \n",
    "# define Boruta feature selection method\n",
    "feat_selector = BorutaPy(forest, n_estimators='auto', verbose=2)\n",
    " \n",
    "# find all relevant features\n",
    "feat_selector.fit(X, y)\n",
    " \n",
    "# check selected features\n",
    "feat_selector.support_\n",
    " \n",
    "# check ranking of features\n",
    "feat_selector.ranking_"
   ]
  },
  {
   "cell_type": "code",
   "execution_count": 40,
   "metadata": {},
   "outputs": [
    {
     "data": {
      "text/plain": [
       "Text(0,0.5,'Rank')"
      ]
     },
     "execution_count": 40,
     "metadata": {},
     "output_type": "execute_result"
    },
    {
     "data": {
      "image/png": "[encoded data removed]",
      "text/plain": [
       "<matplotlib.figure.Figure at 0x122001edc88>"
      ]
     },
     "metadata": {
      "image/png": {
       "height": 513,
       "width": 886
      }
     },
     "output_type": "display_data"
    }
   ],
   "source": [
    "feat_imp = pd.Series(feat_selector.ranking_,X_train.columns).sort_values(ascending=True)\n",
    "feat_imp = feat_imp[7:]\n",
    "feat_imp = feat_imp[:60]\n",
    "feat_imp.plot(kind='bar', title='Feature Importances',figsize = (15,8))\n",
    "plt.ylabel('Rank')"
   ]
  }
 ],
 "metadata": {
  "kernelspec": {
   "display_name": "Python 3",
   "language": "python",
   "name": "python3"
  },
  "language_info": {
   "codemirror_mode": {
    "name": "ipython",
    "version": 3
   },
   "file_extension": ".py",
   "mimetype": "text/x-python",
   "name": "python",
   "nbconvert_exporter": "python",
   "pygments_lexer": "ipython3",
   "version": "3.6.4"
  }
 },
 "nbformat": 4,
 "nbformat_minor": 2
}
