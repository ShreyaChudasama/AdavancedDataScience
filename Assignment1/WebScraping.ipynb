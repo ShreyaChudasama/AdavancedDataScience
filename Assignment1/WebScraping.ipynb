{
 "cells": [
  {
   "cell_type": "code",
   "execution_count": 176,
   "metadata": {},
   "outputs": [],
   "source": [
    "import bs4\n",
    "import urllib.parse\n",
    "import csv\n",
    "import lxml\n",
    "import re\n",
    "import os\n"
   ]
  },
  {
   "cell_type": "code",
   "execution_count": 162,
   "metadata": {},
   "outputs": [],
   "source": [
    "from urllib.request import urlopen as ureq\n",
    "from bs4 import BeautifulSoup as soup\n",
    "from datetime import datetime\n",
    "from lxml import html, etree"
   ]
  },
  {
   "cell_type": "markdown",
   "metadata": {},
   "source": [
    "## Fetching the 10Q link"
   ]
  },
  {
   "cell_type": "code",
   "execution_count": 163,
   "metadata": {},
   "outputs": [
    {
     "name": "stdout",
     "output_type": "stream",
     "text": [
      "https://www.sec.gov/Archives/edgar/data/51143/000005114313000007/0000051143-13-000007-index.html\n"
     ]
    }
   ],
   "source": [
    "base_url = 'https://www.sec.gov'\n",
    "cik = \"51143\"\n",
    "acc_num = \"000005114313000007\"\n",
    "acc_num_index = acc_num[0:10]+\"-\"+acc_num[10:12]+\"-\"+acc_num[12:]+\"-index.html\"\n",
    "url_rendered = base_url + \"/Archives/edgar/data/\" + cik + \"/\" + acc_num +\"/\" + acc_num_index\n",
    "form_url = base_url + \"/\" + cik + \"/\" + acc_num\n",
    "print(url_rendered)"
   ]
  },
  {
   "cell_type": "code",
   "execution_count": 164,
   "metadata": {},
   "outputs": [],
   "source": [
    "uCLient = ureq(url_rendered)\n",
    "page_html=uCLient.read()"
   ]
  },
  {
   "cell_type": "code",
   "execution_count": 165,
   "metadata": {},
   "outputs": [],
   "source": [
    "page_soup = soup(page_html, 'html.parser')\n",
    "divs = page_soup.find('table',summary=\"Document Format Files\")\n",
    "url2=divs.find_all('tr')[1].find_all('td')[2].find('a')['href']"
   ]
  },
  {
   "cell_type": "markdown",
   "metadata": {},
   "source": [
    "## Fetching tables"
   ]
  },
  {
   "cell_type": "code",
   "execution_count": 166,
   "metadata": {},
   "outputs": [
    {
     "data": {
      "text/plain": [
       "'https://www.sec.gov/Archives/edgar/data/51143/000005114313000007/ibm13q3_10q.htm'"
      ]
     },
     "execution_count": 166,
     "metadata": {},
     "output_type": "execute_result"
    }
   ],
   "source": [
    "my_url2=urllib.parse.urljoin(base_url, url2)\n",
    "my_url2"
   ]
  },
  {
   "cell_type": "code",
   "execution_count": 167,
   "metadata": {},
   "outputs": [],
   "source": [
    "uCLient2 = ureq(my_url2)\n",
    "page_html2=uCLient2.read()\n",
    "page_soup2 = soup(page_html2, 'html.parser')"
   ]
  },
  {
   "cell_type": "code",
   "execution_count": 168,
   "metadata": {},
   "outputs": [],
   "source": [
    "def find_between( s, first, last ):\n",
    "    try:\n",
    "        start = s.index( first ) + len( first )\n",
    "        end = s.index( last, start )\n",
    "        return s[start:end]\n",
    "    except ValueError:\n",
    "        return \"\""
   ]
  },
  {
   "cell_type": "code",
   "execution_count": 169,
   "metadata": {},
   "outputs": [
    {
     "name": "stdout",
     "output_type": "stream",
     "text": [
      "NEw list ['Part1FinInfo', 'ConsolidatedFS', 'ConsolEarnings', 'ConsolBS', 'ConsolCF', 'NotesToConsolFS', 'Controls', 'OtherInfo', 'LegalProceedings', 'Unregistered', 'Exhibits']\n"
     ]
    }
   ],
   "source": [
    "link_list=[]\n",
    "link_text=[]\n",
    "\n",
    "for link in page_soup2.find_all('a'):\n",
    "    href_link=link.get('href')\n",
    "    href_text=link.get_text()\n",
    "    if href_link is not None:\n",
    "        href_link=str(href_link).strip('#')\n",
    "        is_Exists = page_soup2.find(\"a\",{'name':href_link})\n",
    "        if (is_Exists is not None):\n",
    "            link_list.append(href_link)\n",
    "            link_text.append(href_text)\n",
    "print(\"NEw list\",link_list)"
   ]
  },
  {
   "cell_type": "code",
   "execution_count": 170,
   "metadata": {},
   "outputs": [],
   "source": [
    "def checktag(param):\n",
    "    flag = \"false\"\n",
    "    datatabletags = [\"background\", \"bgcolor\", \"background-color\"]\n",
    "    for x in datatabletags:\n",
    "        if x in param:\n",
    "            flag = \"true\"\n",
    "    return flag"
   ]
  },
  {
   "cell_type": "code",
   "execution_count": 181,
   "metadata": {},
   "outputs": [
    {
     "name": "stdout",
     "output_type": "stream",
     "text": [
      "elements <a name=\"Part1FinInfo\"> <a name=\"ConsolidatedFS\">\n",
      "elements <a name=\"ConsolidatedFS\"> <a name=\"ConsolEarnings\">\n",
      "elements <a name=\"ConsolEarnings\"> <a name=\"ConsolBS\">\n",
      "got it\n",
      "got it\n",
      "elements <a name=\"ConsolBS\"> <a name=\"ConsolCF\">\n",
      "got it\n",
      "got it\n",
      "elements <a name=\"ConsolCF\"> <a name=\"NotesToConsolFS\">\n",
      "elements <a name=\"NotesToConsolFS\"> <a name=\"Controls\">\n",
      "got it\n",
      "got it\n",
      "got it\n",
      "got it\n",
      "got it\n",
      "got it\n",
      "got it\n",
      "got it\n",
      "got it\n",
      "got it\n",
      "got it\n",
      "got it\n",
      "got it\n",
      "got it\n",
      "got it\n",
      "got it\n",
      "got it\n",
      "got it\n",
      "got it\n",
      "got it\n",
      "got it\n",
      "got it\n",
      "got it\n",
      "got it\n",
      "got it\n",
      "got it\n",
      "got it\n",
      "got it\n",
      "got it\n",
      "got it\n",
      "got it\n",
      "got it\n",
      "got it\n",
      "got it\n",
      "got it\n",
      "got it\n",
      "got it\n",
      "got it\n",
      "got it\n",
      "got it\n",
      "got it\n",
      "got it\n",
      "got it\n",
      "got it\n",
      "got it\n",
      "got it\n",
      "got it\n",
      "got it\n",
      "got it\n",
      "got it\n",
      "got it\n",
      "got it\n",
      "got it\n",
      "got it\n",
      "got it\n",
      "got it\n",
      "got it\n",
      "got it\n",
      "got it\n",
      "got it\n",
      "got it\n",
      "got it\n",
      "got it\n",
      "got it\n",
      "got it\n",
      "got it\n",
      "got it\n",
      "got it\n",
      "got it\n",
      "got it\n",
      "got it\n",
      "got it\n",
      "got it\n",
      "got it\n",
      "got it\n",
      "got it\n",
      "got it\n",
      "got it\n",
      "got it\n",
      "got it\n",
      "got it\n",
      "got it\n",
      "got it\n",
      "got it\n",
      "got it\n",
      "got it\n",
      "got it\n",
      "got it\n",
      "got it\n",
      "got it\n",
      "got it\n",
      "got it\n",
      "got it\n",
      "got it\n",
      "got it\n",
      "got it\n",
      "got it\n",
      "got it\n",
      "got it\n",
      "got it\n",
      "got it\n",
      "got it\n",
      "got it\n",
      "got it\n",
      "elements <a name=\"Controls\"> <a name=\"OtherInfo\">\n",
      "elements <a name=\"OtherInfo\"> <a name=\"LegalProceedings\">\n",
      "elements <a name=\"LegalProceedings\"> <a name=\"Unregistered\">\n",
      "elements <a name=\"Unregistered\"> <a name=\"Exhibits\">\n",
      "got it\n"
     ]
    }
   ],
   "source": [
    "for item in range(0, (len(link_list)-1)):\n",
    "    next2 = item + 1\n",
    "    item1=link_list[item]\n",
    "    item2=link_list[next2]\n",
    "    first = '<a name=\"' + item1 +'\">'\n",
    "    last = '<a name=\"' + item2 +'\">'\n",
    "    print(\"elements\",first,last)\n",
    "    new_soup = find_between( page_soup2.prettify(), first, last )\n",
    "    new_bs = soup(new_soup, 'html.parser')\n",
    "    tables = new_bs.find_all(\"table\")\n",
    "    if(len(tables)>0):    \n",
    "        table_all_rows=[]\n",
    "        for table in tables:\n",
    "            table_row = table.select('tr')\n",
    "            tds = table.select('td')\n",
    "            flag=0\n",
    "            for td in tds:\n",
    "                if checktag(str(td.get('style'))) == \"true\" or checktag(str(td)) == \"true\":\n",
    "                    print(\"got it\")\n",
    "                    flag=1\n",
    "                    break\n",
    "            for tr in table_row:\n",
    "                if(flag==1):\n",
    "                    table_column = tr.select('font')\n",
    "                    row = []\n",
    "                    for k in table_column:\n",
    "                        k_text = k.text.replace(u'\\xa0',u'')\n",
    "                        k_text = k_text.replace(u'\\n',u'')\n",
    "                        if(k_text!='\\n' ):\n",
    "                            row.append(k_text)\n",
    "                    table_all_rows.append(row)\n",
    "            if(flag==1):\n",
    "                dirname = './Part1/'+cik+ '/'+acc_num+'/'\n",
    "                if not os.path.exists(dirname):\n",
    "                    os.makedirs(dirname)\n",
    "                try:\n",
    "                    with open((dirname+item1+'.csv'),\"a\",newline='') as my_csv:\n",
    "                        csvWriter = csv.writer(my_csv,delimiter=',')\n",
    "                        try:\n",
    "                            csvWriter.writerows(table_all_rows) \n",
    "                        except:\n",
    "                            print(\"no\")\n",
    "                except:\n",
    "                    print(\"file open error\")"
   ]
  },
  {
   "cell_type": "code",
   "execution_count": null,
   "metadata": {},
   "outputs": [],
   "source": []
  }
 ],
 "metadata": {
  "kernelspec": {
   "display_name": "Python 3",
   "language": "python",
   "name": "python3"
  },
  "language_info": {
   "codemirror_mode": {
    "name": "ipython",
    "version": 3
   },
   "file_extension": ".py",
   "mimetype": "text/x-python",
   "name": "python",
   "nbconvert_exporter": "python",
   "pygments_lexer": "ipython3",
   "version": "3.6.4"
  }
 },
 "nbformat": 4,
 "nbformat_minor": 2
}
