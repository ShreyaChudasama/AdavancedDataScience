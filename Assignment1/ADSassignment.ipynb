{
 "cells": [
  {
   "cell_type": "code",
   "execution_count": 44,
   "metadata": {
    "collapsed": true
   },
   "outputs": [],
   "source": [
    "from lxml.html import parse\n",
    "import numpy as np\n",
    "from urllib.request import urlopen\n",
    "import requests,zipfile,io\n",
    "import pandas as pd\n",
    "import math\n",
    "import seaborn as sns\n",
    "import matplotlib.pyplot as plt\n",
    "%matplotlib inline"
   ]
  },
  {
   "cell_type": "code",
   "execution_count": 45,
   "metadata": {},
   "outputs": [
    {
     "name": "stdout",
     "output_type": "stream",
     "text": [
      "Enter the year2004\n"
     ]
    }
   ],
   "source": [
    "y = input(\"Enter the year\")"
   ]
  },
  {
   "cell_type": "code",
   "execution_count": 46,
   "metadata": {
    "collapsed": true
   },
   "outputs": [],
   "source": [
    "month=1\n",
    "for i in range(12):\n",
    "\n",
    "    if month in range(1,4):qtr = 1; month = \"0\"+str(month)\n",
    "    elif month in range(4,7):qtr = 2; month = \"0\"+str(month)\n",
    "    elif month in range(7,10): qtr = 3; month = \"0\"+str(month)\n",
    "    elif month in range(10,13): qtr = 4\n",
    "    else :pass\n",
    "   \n",
    "   #parsed = parse(urlopen(\"http://www.sec.gov/dera/data/Public-EDGAR-log-file-data/\"+year+\"/Qtr\"+qtr+\"/log\"+year+month+\"01.zip\"))\n",
    "    r = requests.get(\"http://www.sec.gov/dera/data/Public-EDGAR-log-file-data/\"+y+\"/Qtr\"+str(qtr)+\"/log\"+y+str(month)+\"01.zip\")\n",
    "   \n",
    "    z =zipfile.ZipFile(io.BytesIO(r.content))\n",
    "    z.extractall()\n",
    "   #z\n",
    "   \n",
    "   #data = pd.read_csv(\"log\"+y+x+\"01.csv\")\n",
    "\n",
    "   #data.head()\n",
    "   \n",
    "    month = int(month) + 1\n",
    "\n",
    "#http://www.sec.gov/dera/data/Public-EDGAR-log-file-data/2003/Qtr2/log20030501.zip"
   ]
  },
  {
   "cell_type": "code",
   "execution_count": 47,
   "metadata": {
    "collapsed": true
   },
   "outputs": [],
   "source": [
    "data = pd.read_csv(\"log20040101.csv\")"
   ]
  },
  {
   "cell_type": "code",
   "execution_count": 48,
   "metadata": {},
   "outputs": [
    {
     "data": {
      "text/html": [
       "<div>\n",
       "<style>\n",
       "    .dataframe thead tr:only-child th {\n",
       "        text-align: right;\n",
       "    }\n",
       "\n",
       "    .dataframe thead th {\n",
       "        text-align: left;\n",
       "    }\n",
       "\n",
       "    .dataframe tbody tr th {\n",
       "        vertical-align: top;\n",
       "    }\n",
       "</style>\n",
       "<table border=\"1\" class=\"dataframe\">\n",
       "  <thead>\n",
       "    <tr style=\"text-align: right;\">\n",
       "      <th></th>\n",
       "      <th>ip</th>\n",
       "      <th>date</th>\n",
       "      <th>time</th>\n",
       "      <th>zone</th>\n",
       "      <th>cik</th>\n",
       "      <th>accession</th>\n",
       "      <th>extention</th>\n",
       "      <th>code</th>\n",
       "      <th>size</th>\n",
       "      <th>idx</th>\n",
       "      <th>norefer</th>\n",
       "      <th>noagent</th>\n",
       "      <th>find</th>\n",
       "      <th>crawler</th>\n",
       "      <th>browser</th>\n",
       "    </tr>\n",
       "  </thead>\n",
       "  <tbody>\n",
       "    <tr>\n",
       "      <th>0</th>\n",
       "      <td>24.70.95.bjg</td>\n",
       "      <td>2004-01-01</td>\n",
       "      <td>00:00:00</td>\n",
       "      <td>500.0</td>\n",
       "      <td>771252.0</td>\n",
       "      <td>0001047469-03-042434</td>\n",
       "      <td>a2125426zs-3.htm</td>\n",
       "      <td>200.0</td>\n",
       "      <td>123558.0</td>\n",
       "      <td>0.0</td>\n",
       "      <td>0.0</td>\n",
       "      <td>0.0</td>\n",
       "      <td>10.0</td>\n",
       "      <td>0.0</td>\n",
       "      <td>win</td>\n",
       "    </tr>\n",
       "    <tr>\n",
       "      <th>1</th>\n",
       "      <td>64.165.202.fca</td>\n",
       "      <td>2004-01-01</td>\n",
       "      <td>00:00:00</td>\n",
       "      <td>500.0</td>\n",
       "      <td>849778.0</td>\n",
       "      <td>0000927016-03-001282</td>\n",
       "      <td>dex1014.txt</td>\n",
       "      <td>200.0</td>\n",
       "      <td>38688.0</td>\n",
       "      <td>0.0</td>\n",
       "      <td>1.0</td>\n",
       "      <td>0.0</td>\n",
       "      <td>0.0</td>\n",
       "      <td>0.0</td>\n",
       "      <td>win</td>\n",
       "    </tr>\n",
       "    <tr>\n",
       "      <th>2</th>\n",
       "      <td>207.168.174.jdd</td>\n",
       "      <td>2004-01-01</td>\n",
       "      <td>00:00:01</td>\n",
       "      <td>500.0</td>\n",
       "      <td>1244190.0</td>\n",
       "      <td>0001244190-03-000001</td>\n",
       "      <td>edgar.xml</td>\n",
       "      <td>200.0</td>\n",
       "      <td>5683.0</td>\n",
       "      <td>0.0</td>\n",
       "      <td>1.0</td>\n",
       "      <td>1.0</td>\n",
       "      <td>0.0</td>\n",
       "      <td>0.0</td>\n",
       "      <td>NaN</td>\n",
       "    </tr>\n",
       "    <tr>\n",
       "      <th>3</th>\n",
       "      <td>64.165.202.fca</td>\n",
       "      <td>2004-01-01</td>\n",
       "      <td>00:00:02</td>\n",
       "      <td>500.0</td>\n",
       "      <td>849778.0</td>\n",
       "      <td>0000927016-03-001282</td>\n",
       "      <td>dex1015.txt</td>\n",
       "      <td>200.0</td>\n",
       "      <td>17038.0</td>\n",
       "      <td>0.0</td>\n",
       "      <td>1.0</td>\n",
       "      <td>0.0</td>\n",
       "      <td>0.0</td>\n",
       "      <td>0.0</td>\n",
       "      <td>win</td>\n",
       "    </tr>\n",
       "    <tr>\n",
       "      <th>4</th>\n",
       "      <td>64.165.202.fca</td>\n",
       "      <td>2004-01-01</td>\n",
       "      <td>00:00:03</td>\n",
       "      <td>500.0</td>\n",
       "      <td>849778.0</td>\n",
       "      <td>0000927016-03-001282</td>\n",
       "      <td>dex211.htm</td>\n",
       "      <td>200.0</td>\n",
       "      <td>9025.0</td>\n",
       "      <td>0.0</td>\n",
       "      <td>1.0</td>\n",
       "      <td>0.0</td>\n",
       "      <td>0.0</td>\n",
       "      <td>0.0</td>\n",
       "      <td>win</td>\n",
       "    </tr>\n",
       "  </tbody>\n",
       "</table>\n",
       "</div>"
      ],
      "text/plain": [
       "                ip        date      time   zone        cik  \\\n",
       "0     24.70.95.bjg  2004-01-01  00:00:00  500.0   771252.0   \n",
       "1   64.165.202.fca  2004-01-01  00:00:00  500.0   849778.0   \n",
       "2  207.168.174.jdd  2004-01-01  00:00:01  500.0  1244190.0   \n",
       "3   64.165.202.fca  2004-01-01  00:00:02  500.0   849778.0   \n",
       "4   64.165.202.fca  2004-01-01  00:00:03  500.0   849778.0   \n",
       "\n",
       "              accession         extention   code      size  idx  norefer  \\\n",
       "0  0001047469-03-042434  a2125426zs-3.htm  200.0  123558.0  0.0      0.0   \n",
       "1  0000927016-03-001282       dex1014.txt  200.0   38688.0  0.0      1.0   \n",
       "2  0001244190-03-000001         edgar.xml  200.0    5683.0  0.0      1.0   \n",
       "3  0000927016-03-001282       dex1015.txt  200.0   17038.0  0.0      1.0   \n",
       "4  0000927016-03-001282        dex211.htm  200.0    9025.0  0.0      1.0   \n",
       "\n",
       "   noagent  find  crawler browser  \n",
       "0      0.0  10.0      0.0     win  \n",
       "1      0.0   0.0      0.0     win  \n",
       "2      1.0   0.0      0.0     NaN  \n",
       "3      0.0   0.0      0.0     win  \n",
       "4      0.0   0.0      0.0     win  "
      ]
     },
     "execution_count": 48,
     "metadata": {},
     "output_type": "execute_result"
    }
   ],
   "source": [
    "data.head()"
   ]
  },
  {
   "cell_type": "code",
   "execution_count": 49,
   "metadata": {},
   "outputs": [
    {
     "data": {
      "text/plain": [
       "ip                0\n",
       "date              0\n",
       "time              0\n",
       "zone              0\n",
       "cik               0\n",
       "accession         0\n",
       "extention         0\n",
       "code              0\n",
       "size          26466\n",
       "idx               0\n",
       "norefer           0\n",
       "noagent           0\n",
       "find              0\n",
       "crawler           0\n",
       "browser      211839\n",
       "dtype: int64"
      ]
     },
     "execution_count": 49,
     "metadata": {},
     "output_type": "execute_result"
    }
   ],
   "source": [
    "data.isnull().sum()"
   ]
  },
  {
   "cell_type": "code",
   "execution_count": 50,
   "metadata": {},
   "outputs": [
    {
     "name": "stdout",
     "output_type": "stream",
     "text": [
      "<class 'pandas.core.frame.DataFrame'>\n",
      "RangeIndex: 440178 entries, 0 to 440177\n",
      "Data columns (total 15 columns):\n",
      "ip           440178 non-null object\n",
      "date         440178 non-null object\n",
      "time         440178 non-null object\n",
      "zone         440178 non-null float64\n",
      "cik          440178 non-null float64\n",
      "accession    440178 non-null object\n",
      "extention    440178 non-null object\n",
      "code         440178 non-null float64\n",
      "size         413712 non-null float64\n",
      "idx          440178 non-null float64\n",
      "norefer      440178 non-null float64\n",
      "noagent      440178 non-null float64\n",
      "find         440178 non-null float64\n",
      "crawler      440178 non-null float64\n",
      "browser      228339 non-null object\n",
      "dtypes: float64(9), object(6)\n",
      "memory usage: 50.4+ MB\n"
     ]
    }
   ],
   "source": [
    "data.info()"
   ]
  },
  {
   "cell_type": "code",
   "execution_count": 51,
   "metadata": {
    "scrolled": true
   },
   "outputs": [
    {
     "data": {
      "text/plain": [
       "-index.htm                    189142\n",
       ".txt                           80231\n",
       ".hdr.sgml                      17484\n",
       "edgar.xml                       9028\n",
       "primary_doc.xml                 8597\n",
       "-index.html                     5561\n",
       "doc4.xml                        3976\n",
       "edgardoc.xml                    2934\n",
       "-0001.txt                       2701\n",
       "xslF345X02/primary_doc.xml      2122\n",
       "xslF345X02/edgar.xml            1639\n",
       "xslF345X02/edgardoc.xml         1241\n",
       ".paper                          1077\n",
       "-0002.txt                        916\n",
       "d10q.htm                         732\n",
       "doc1.xml                         731\n",
       "xslF345X02/doc4.xml              716\n",
       "file001.txt                      711\n",
       "dex991.htm                       596\n",
       "doc1.txt                         587\n",
       "d10k.htm                         545\n",
       "d8k.htm                          540\n",
       "a4.xml                           466\n",
       "-0003.txt                        415\n",
       "edgar123.xml                     389\n",
       "edgar.htm                        351\n",
       "file002.txt                      332\n",
       "dex991.txt                       290\n",
       "xslF345/primary_doc.xml          286\n",
       "-0004.txt                        280\n",
       "                               ...  \n",
       "microtek10q63002ex992.txt          1\n",
       "exhibit2308212001.htm              1\n",
       "milegal-opinion.txt                1\n",
       "kf23.txt                           1\n",
       "s20036.txt                         1\n",
       "albex991.txt                       1\n",
       "w57495e10-k.txt                    1\n",
       "a03-4536_1ex31d1.htm               1\n",
       "xslF345/per69.xml                  1\n",
       "l93389an-1aa.txt                   1\n",
       "k74300exv10w40.txt                 1\n",
       "form10qsept2003.txt                1\n",
       "ex231am2.txt                       1\n",
       "a2090928zsc13da.htm                1\n",
       "consentauditors.txt                1\n",
       "ex10_46.txt                        1\n",
       "bny86782_bny1aju.xml               1\n",
       "j0645_ex99d4.htm                   1\n",
       "y65119a1exv23w1.txt                1\n",
       "a72943ex99-1.txt                   1\n",
       "cl3053.txt                         1\n",
       "mv_ex10-9.txt                      1\n",
       "m18681.htm                         1\n",
       "dtouche.txt                        1\n",
       "a2109938zex-8_1.htm                1\n",
       "g80208def14a.htm                   1\n",
       "h09618e8vk.txt                     1\n",
       "r13g-0101.htm                      1\n",
       "inyx8kex1092.txt                   1\n",
       "h04913exv99wa.txt                  1\n",
       "Name: extention, Length: 67313, dtype: int64"
      ]
     },
     "execution_count": 51,
     "metadata": {},
     "output_type": "execute_result"
    }
   ],
   "source": [
    "data['extention'].value_counts()"
   ]
  },
  {
   "cell_type": "code",
   "execution_count": 34,
   "metadata": {},
   "outputs": [
    {
     "data": {
      "text/plain": [
       "26466"
      ]
     },
     "execution_count": 34,
     "metadata": {},
     "output_type": "execute_result"
    }
   ],
   "source": [
    "data['size'].isnull().sum()"
   ]
  },
  {
   "cell_type": "code",
   "execution_count": 35,
   "metadata": {},
   "outputs": [
    {
     "data": {
      "text/plain": [
       "<matplotlib.axes._subplots.AxesSubplot at 0x1e5f12159e8>"
      ]
     },
     "execution_count": 35,
     "metadata": {},
     "output_type": "execute_result"
    },
    {
     "data": {
      "image/png": "[encoded data removed]",
      "text/plain": [
       "<matplotlib.figure.Figure at 0x1e5f1338d68>"
      ]
     },
     "metadata": {},
     "output_type": "display_data"
    }
   ],
   "source": [
    "sns.boxplot(data = data['size'])"
   ]
  },
  {
   "cell_type": "markdown",
   "metadata": {},
   "source": [
    "# Data Cleaning"
   ]
  },
  {
   "cell_type": "code",
   "execution_count": 36,
   "metadata": {
    "collapsed": true
   },
   "outputs": [],
   "source": [
    "# Filling Null data in 'size' by mean value"
   ]
  },
  {
   "cell_type": "code",
   "execution_count": 37,
   "metadata": {
    "collapsed": true
   },
   "outputs": [],
   "source": [
    "data['size'].fillna(data['size'].mean(), inplace = True)"
   ]
  },
  {
   "cell_type": "code",
   "execution_count": 38,
   "metadata": {},
   "outputs": [
    {
     "data": {
      "text/plain": [
       "False"
      ]
     },
     "execution_count": 38,
     "metadata": {},
     "output_type": "execute_result"
    }
   ],
   "source": [
    "data['size'].isnull().any()"
   ]
  },
  {
   "cell_type": "code",
   "execution_count": 39,
   "metadata": {},
   "outputs": [
    {
     "data": {
      "text/plain": [
       "ip                0\n",
       "date              0\n",
       "time              0\n",
       "zone              0\n",
       "cik               0\n",
       "accession         0\n",
       "extention         0\n",
       "code              0\n",
       "size              0\n",
       "idx               0\n",
       "norefer           0\n",
       "noagent           0\n",
       "find              0\n",
       "crawler           0\n",
       "browser      211839\n",
       "dtype: int64"
      ]
     },
     "execution_count": 39,
     "metadata": {},
     "output_type": "execute_result"
    }
   ],
   "source": [
    "data.isnull().sum()"
   ]
  },
  {
   "cell_type": "code",
   "execution_count": 40,
   "metadata": {
    "collapsed": true
   },
   "outputs": [],
   "source": [
    "x=data['browser'].value_counts().max()"
   ]
  },
  {
   "cell_type": "code",
   "execution_count": 41,
   "metadata": {},
   "outputs": [
    {
     "data": {
      "text/plain": [
       "win    216624\n",
       "mie     11324\n",
       "mac       237\n",
       "lin       140\n",
       "opr        13\n",
       "iem         1\n",
       "Name: browser, dtype: int64"
      ]
     },
     "execution_count": 41,
     "metadata": {},
     "output_type": "execute_result"
    }
   ],
   "source": [
    "data['browser'].value_counts()"
   ]
  },
  {
   "cell_type": "code",
   "execution_count": 42,
   "metadata": {
    "collapsed": true
   },
   "outputs": [],
   "source": [
    "x=data['browser'].mode()"
   ]
  },
  {
   "cell_type": "code",
   "execution_count": 41,
   "metadata": {
    "collapsed": true
   },
   "outputs": [],
   "source": [
    "#most_occuring = x[0]"
   ]
  },
  {
   "cell_type": "code",
   "execution_count": 42,
   "metadata": {},
   "outputs": [
    {
     "data": {
      "text/plain": [
       "'win'"
      ]
     },
     "execution_count": 42,
     "metadata": {},
     "output_type": "execute_result"
    }
   ],
   "source": [
    "#most_occuring"
   ]
  },
  {
   "cell_type": "code",
   "execution_count": 19,
   "metadata": {
    "collapsed": true
   },
   "outputs": [],
   "source": [
    "data['browser'].fillna(x[0], inplace = True)"
   ]
  },
  {
   "cell_type": "code",
   "execution_count": 20,
   "metadata": {},
   "outputs": [
    {
     "data": {
      "text/plain": [
       "'win'"
      ]
     },
     "execution_count": 20,
     "metadata": {},
     "output_type": "execute_result"
    }
   ],
   "source": [
    "x[0]"
   ]
  },
  {
   "cell_type": "code",
   "execution_count": 21,
   "metadata": {},
   "outputs": [
    {
     "data": {
      "text/plain": [
       "win    428463\n",
       "mie     11324\n",
       "mac       237\n",
       "lin       140\n",
       "opr        13\n",
       "iem         1\n",
       "Name: browser, dtype: int64"
      ]
     },
     "execution_count": 21,
     "metadata": {},
     "output_type": "execute_result"
    }
   ],
   "source": [
    "data['browser'].value_counts()"
   ]
  },
  {
   "cell_type": "code",
   "execution_count": 43,
   "metadata": {},
   "outputs": [
    {
     "ename": "TypeError",
     "evalue": "'<' not supported between instances of 'float' and 'str'",
     "output_type": "error",
     "traceback": [
      "\u001b[1;31m---------------------------------------------------------------------------\u001b[0m",
      "\u001b[1;31mTypeError\u001b[0m                                 Traceback (most recent call last)",
      "\u001b[1;32m<ipython-input-43-d74dd3c3690c>\u001b[0m in \u001b[0;36m<module>\u001b[1;34m()\u001b[0m\n\u001b[0;32m      4\u001b[0m \u001b[0mlabelencoder\u001b[0m \u001b[1;33m=\u001b[0m \u001b[0mLabelEncoder\u001b[0m\u001b[1;33m(\u001b[0m\u001b[1;33m)\u001b[0m\u001b[1;33m\u001b[0m\u001b[0m\n\u001b[0;32m      5\u001b[0m \u001b[1;32mfor\u001b[0m \u001b[0mi\u001b[0m \u001b[1;32min\u001b[0m \u001b[1;33m[\u001b[0m\u001b[1;34m'ip'\u001b[0m\u001b[1;33m,\u001b[0m\u001b[1;34m'date'\u001b[0m\u001b[1;33m,\u001b[0m\u001b[1;34m'time'\u001b[0m\u001b[1;33m,\u001b[0m\u001b[1;34m'accession'\u001b[0m\u001b[1;33m,\u001b[0m\u001b[1;34m'extention'\u001b[0m\u001b[1;33m,\u001b[0m\u001b[1;34m'browser'\u001b[0m\u001b[1;33m]\u001b[0m\u001b[1;33m:\u001b[0m\u001b[1;33m\u001b[0m\u001b[0m\n\u001b[1;32m----> 6\u001b[1;33m     \u001b[0mdata\u001b[0m\u001b[1;33m[\u001b[0m\u001b[0mi\u001b[0m\u001b[1;33m]\u001b[0m \u001b[1;33m=\u001b[0m \u001b[0mlabelencoder\u001b[0m\u001b[1;33m.\u001b[0m\u001b[0mfit_transform\u001b[0m\u001b[1;33m(\u001b[0m\u001b[0mdata\u001b[0m\u001b[1;33m[\u001b[0m\u001b[0mi\u001b[0m\u001b[1;33m]\u001b[0m\u001b[1;33m)\u001b[0m\u001b[1;33m\u001b[0m\u001b[0m\n\u001b[0m\u001b[0;32m      7\u001b[0m \u001b[0mdata\u001b[0m\u001b[1;33m.\u001b[0m\u001b[0mhead\u001b[0m\u001b[1;33m(\u001b[0m\u001b[1;33m)\u001b[0m\u001b[1;33m\u001b[0m\u001b[0m\n",
      "\u001b[1;32m~\\Anaconda3\\lib\\site-packages\\sklearn\\preprocessing\\label.py\u001b[0m in \u001b[0;36mfit_transform\u001b[1;34m(self, y)\u001b[0m\n\u001b[0;32m    110\u001b[0m         \"\"\"\n\u001b[0;32m    111\u001b[0m         \u001b[0my\u001b[0m \u001b[1;33m=\u001b[0m \u001b[0mcolumn_or_1d\u001b[0m\u001b[1;33m(\u001b[0m\u001b[0my\u001b[0m\u001b[1;33m,\u001b[0m \u001b[0mwarn\u001b[0m\u001b[1;33m=\u001b[0m\u001b[1;32mTrue\u001b[0m\u001b[1;33m)\u001b[0m\u001b[1;33m\u001b[0m\u001b[0m\n\u001b[1;32m--> 112\u001b[1;33m         \u001b[0mself\u001b[0m\u001b[1;33m.\u001b[0m\u001b[0mclasses_\u001b[0m\u001b[1;33m,\u001b[0m \u001b[0my\u001b[0m \u001b[1;33m=\u001b[0m \u001b[0mnp\u001b[0m\u001b[1;33m.\u001b[0m\u001b[0munique\u001b[0m\u001b[1;33m(\u001b[0m\u001b[0my\u001b[0m\u001b[1;33m,\u001b[0m \u001b[0mreturn_inverse\u001b[0m\u001b[1;33m=\u001b[0m\u001b[1;32mTrue\u001b[0m\u001b[1;33m)\u001b[0m\u001b[1;33m\u001b[0m\u001b[0m\n\u001b[0m\u001b[0;32m    113\u001b[0m         \u001b[1;32mreturn\u001b[0m \u001b[0my\u001b[0m\u001b[1;33m\u001b[0m\u001b[0m\n\u001b[0;32m    114\u001b[0m \u001b[1;33m\u001b[0m\u001b[0m\n",
      "\u001b[1;32m~\\Anaconda3\\lib\\site-packages\\numpy\\lib\\arraysetops.py\u001b[0m in \u001b[0;36munique\u001b[1;34m(ar, return_index, return_inverse, return_counts, axis)\u001b[0m\n\u001b[0;32m    208\u001b[0m     \u001b[0mar\u001b[0m \u001b[1;33m=\u001b[0m \u001b[0mnp\u001b[0m\u001b[1;33m.\u001b[0m\u001b[0masanyarray\u001b[0m\u001b[1;33m(\u001b[0m\u001b[0mar\u001b[0m\u001b[1;33m)\u001b[0m\u001b[1;33m\u001b[0m\u001b[0m\n\u001b[0;32m    209\u001b[0m     \u001b[1;32mif\u001b[0m \u001b[0maxis\u001b[0m \u001b[1;32mis\u001b[0m \u001b[1;32mNone\u001b[0m\u001b[1;33m:\u001b[0m\u001b[1;33m\u001b[0m\u001b[0m\n\u001b[1;32m--> 210\u001b[1;33m         \u001b[1;32mreturn\u001b[0m \u001b[0m_unique1d\u001b[0m\u001b[1;33m(\u001b[0m\u001b[0mar\u001b[0m\u001b[1;33m,\u001b[0m \u001b[0mreturn_index\u001b[0m\u001b[1;33m,\u001b[0m \u001b[0mreturn_inverse\u001b[0m\u001b[1;33m,\u001b[0m \u001b[0mreturn_counts\u001b[0m\u001b[1;33m)\u001b[0m\u001b[1;33m\u001b[0m\u001b[0m\n\u001b[0m\u001b[0;32m    211\u001b[0m     \u001b[1;32mif\u001b[0m \u001b[1;32mnot\u001b[0m \u001b[1;33m(\u001b[0m\u001b[1;33m-\u001b[0m\u001b[0mar\u001b[0m\u001b[1;33m.\u001b[0m\u001b[0mndim\u001b[0m \u001b[1;33m<=\u001b[0m \u001b[0maxis\u001b[0m \u001b[1;33m<\u001b[0m \u001b[0mar\u001b[0m\u001b[1;33m.\u001b[0m\u001b[0mndim\u001b[0m\u001b[1;33m)\u001b[0m\u001b[1;33m:\u001b[0m\u001b[1;33m\u001b[0m\u001b[0m\n\u001b[0;32m    212\u001b[0m         \u001b[1;32mraise\u001b[0m \u001b[0mValueError\u001b[0m\u001b[1;33m(\u001b[0m\u001b[1;34m'Invalid axis kwarg specified for unique'\u001b[0m\u001b[1;33m)\u001b[0m\u001b[1;33m\u001b[0m\u001b[0m\n",
      "\u001b[1;32m~\\Anaconda3\\lib\\site-packages\\numpy\\lib\\arraysetops.py\u001b[0m in \u001b[0;36m_unique1d\u001b[1;34m(ar, return_index, return_inverse, return_counts)\u001b[0m\n\u001b[0;32m    272\u001b[0m \u001b[1;33m\u001b[0m\u001b[0m\n\u001b[0;32m    273\u001b[0m     \u001b[1;32mif\u001b[0m \u001b[0moptional_indices\u001b[0m\u001b[1;33m:\u001b[0m\u001b[1;33m\u001b[0m\u001b[0m\n\u001b[1;32m--> 274\u001b[1;33m         \u001b[0mperm\u001b[0m \u001b[1;33m=\u001b[0m \u001b[0mar\u001b[0m\u001b[1;33m.\u001b[0m\u001b[0margsort\u001b[0m\u001b[1;33m(\u001b[0m\u001b[0mkind\u001b[0m\u001b[1;33m=\u001b[0m\u001b[1;34m'mergesort'\u001b[0m \u001b[1;32mif\u001b[0m \u001b[0mreturn_index\u001b[0m \u001b[1;32melse\u001b[0m \u001b[1;34m'quicksort'\u001b[0m\u001b[1;33m)\u001b[0m\u001b[1;33m\u001b[0m\u001b[0m\n\u001b[0m\u001b[0;32m    275\u001b[0m         \u001b[0maux\u001b[0m \u001b[1;33m=\u001b[0m \u001b[0mar\u001b[0m\u001b[1;33m[\u001b[0m\u001b[0mperm\u001b[0m\u001b[1;33m]\u001b[0m\u001b[1;33m\u001b[0m\u001b[0m\n\u001b[0;32m    276\u001b[0m     \u001b[1;32melse\u001b[0m\u001b[1;33m:\u001b[0m\u001b[1;33m\u001b[0m\u001b[0m\n",
      "\u001b[1;31mTypeError\u001b[0m: '<' not supported between instances of 'float' and 'str'"
     ]
    }
   ],
   "source": [
    "# Encoding categorical data\n",
    "\n",
    "from sklearn.preprocessing import LabelEncoder, OneHotEncoder\n",
    "labelencoder = LabelEncoder()\n",
    "for i in ['ip','date','time','accession','extention','browser']:\n",
    "    data[i] = labelencoder.fit_transform(data[i])\n",
    "data.head()"
   ]
  },
  {
   "cell_type": "code",
   "execution_count": 23,
   "metadata": {},
   "outputs": [
    {
     "data": {
      "image/png": "[encoded data removed]",
      "text/plain": [
       "<matplotlib.figure.Figure at 0x1e5ee3f2a90>"
      ]
     },
     "metadata": {},
     "output_type": "display_data"
    }
   ],
   "source": [
    "# matplotlib.figure.Figure(figsize= (w,h)) tuple in inches\n",
    "\n",
    "from matplotlib import pyplot as plt\n",
    "plt.figure(figsize=(10,5))\n",
    "\n",
    "\n",
    "# seaborn.countplot - Show the counts of observations in each categorical bin using bars.\n",
    "# A count plot can be thought of as a histogram across a categorical, instead of quantitative, variable\n",
    "\n",
    "sns.countplot(data['browser'])\n",
    "plt.xticks(rotation = 'vertical')\n",
    "#plt.title('Manufacturers distribution in dataset')\n",
    "#plt.ylabel('Number of vehicles')\n",
    "plt.show()\n"
   ]
  },
  {
   "cell_type": "code",
   "execution_count": 73,
   "metadata": {
    "scrolled": true
   },
   "outputs": [
    {
     "data": {
      "image/png": "[encoded data removed]",
      "text/plain": [
       "<matplotlib.figure.Figure at 0x1e5fc9cbba8>"
      ]
     },
     "metadata": {},
     "output_type": "display_data"
    }
   ],
   "source": [
    "# matplotlib.figure.Figure(figsize= (w,h)) tuple in inches\n",
    "\n",
    "from matplotlib import pyplot as plt\n",
    "plt.figure(figsize=(10,5))\n",
    "\n",
    "\n",
    "# seaborn.countplot - Show the counts of observations in each categorical bin using bars.\n",
    "# A count plot can be thought of as a histogram across a categorical, instead of quantitative, variable\n",
    "\n",
    "sns.countplot(data['browser'])\n",
    "plt.xticks(rotation = 'vertical')\n",
    "#plt.title('Manufacturers distribution in dataset')\n",
    "#plt.ylabel('Number of vehicles')\n",
    "plt.show()\n"
   ]
  },
  {
   "cell_type": "code",
   "execution_count": 54,
   "metadata": {
    "collapsed": true
   },
   "outputs": [],
   "source": [
    "data1 = pd.read_csv(\"log20040201.csv\")"
   ]
  },
  {
   "cell_type": "code",
   "execution_count": 55,
   "metadata": {},
   "outputs": [
    {
     "data": {
      "text/html": [
       "<div>\n",
       "<style>\n",
       "    .dataframe thead tr:only-child th {\n",
       "        text-align: right;\n",
       "    }\n",
       "\n",
       "    .dataframe thead th {\n",
       "        text-align: left;\n",
       "    }\n",
       "\n",
       "    .dataframe tbody tr th {\n",
       "        vertical-align: top;\n",
       "    }\n",
       "</style>\n",
       "<table border=\"1\" class=\"dataframe\">\n",
       "  <thead>\n",
       "    <tr style=\"text-align: right;\">\n",
       "      <th></th>\n",
       "      <th>ip</th>\n",
       "      <th>date</th>\n",
       "      <th>time</th>\n",
       "      <th>zone</th>\n",
       "      <th>cik</th>\n",
       "      <th>accession</th>\n",
       "      <th>extention</th>\n",
       "      <th>code</th>\n",
       "      <th>size</th>\n",
       "      <th>idx</th>\n",
       "      <th>norefer</th>\n",
       "      <th>noagent</th>\n",
       "      <th>find</th>\n",
       "      <th>crawler</th>\n",
       "      <th>browser</th>\n",
       "    </tr>\n",
       "  </thead>\n",
       "  <tbody>\n",
       "    <tr>\n",
       "      <th>0</th>\n",
       "      <td>68.186.74.ahg</td>\n",
       "      <td>2004-02-01</td>\n",
       "      <td>00:00:00</td>\n",
       "      <td>500.0</td>\n",
       "      <td>701818.0</td>\n",
       "      <td>0001188112-04-000003</td>\n",
       "      <td>t6k-1458.txt</td>\n",
       "      <td>200.0</td>\n",
       "      <td>3986.0</td>\n",
       "      <td>0.0</td>\n",
       "      <td>0.0</td>\n",
       "      <td>0.0</td>\n",
       "      <td>9.0</td>\n",
       "      <td>0.0</td>\n",
       "      <td>mie</td>\n",
       "    </tr>\n",
       "    <tr>\n",
       "      <th>1</th>\n",
       "      <td>128.125.208.cjj</td>\n",
       "      <td>2004-02-01</td>\n",
       "      <td>00:00:01</td>\n",
       "      <td>500.0</td>\n",
       "      <td>701345.0</td>\n",
       "      <td>0000701345-03-000052</td>\n",
       "      <td>group10q.htm</td>\n",
       "      <td>200.0</td>\n",
       "      <td>401981.0</td>\n",
       "      <td>0.0</td>\n",
       "      <td>0.0</td>\n",
       "      <td>0.0</td>\n",
       "      <td>9.0</td>\n",
       "      <td>0.0</td>\n",
       "      <td>win</td>\n",
       "    </tr>\n",
       "    <tr>\n",
       "      <th>2</th>\n",
       "      <td>128.255.247.edd</td>\n",
       "      <td>2004-02-01</td>\n",
       "      <td>00:00:01</td>\n",
       "      <td>500.0</td>\n",
       "      <td>700863.0</td>\n",
       "      <td>0000950109-01-500610</td>\n",
       "      <td>ddef14a.htm</td>\n",
       "      <td>200.0</td>\n",
       "      <td>290821.0</td>\n",
       "      <td>0.0</td>\n",
       "      <td>1.0</td>\n",
       "      <td>0.0</td>\n",
       "      <td>0.0</td>\n",
       "      <td>0.0</td>\n",
       "      <td>win</td>\n",
       "    </tr>\n",
       "    <tr>\n",
       "      <th>3</th>\n",
       "      <td>68.5.121.eij</td>\n",
       "      <td>2004-02-01</td>\n",
       "      <td>00:00:01</td>\n",
       "      <td>500.0</td>\n",
       "      <td>1021224.0</td>\n",
       "      <td>0001021224-02-000003</td>\n",
       "      <td>richmont.txt</td>\n",
       "      <td>200.0</td>\n",
       "      <td>11019.0</td>\n",
       "      <td>0.0</td>\n",
       "      <td>1.0</td>\n",
       "      <td>0.0</td>\n",
       "      <td>0.0</td>\n",
       "      <td>0.0</td>\n",
       "      <td>win</td>\n",
       "    </tr>\n",
       "    <tr>\n",
       "      <th>4</th>\n",
       "      <td>63.137.115.eih</td>\n",
       "      <td>2004-02-01</td>\n",
       "      <td>00:00:02</td>\n",
       "      <td>500.0</td>\n",
       "      <td>1041403.0</td>\n",
       "      <td>0001209191-04-002505</td>\n",
       "      <td>-index.htm</td>\n",
       "      <td>200.0</td>\n",
       "      <td>2994.0</td>\n",
       "      <td>1.0</td>\n",
       "      <td>1.0</td>\n",
       "      <td>0.0</td>\n",
       "      <td>0.0</td>\n",
       "      <td>0.0</td>\n",
       "      <td>win</td>\n",
       "    </tr>\n",
       "  </tbody>\n",
       "</table>\n",
       "</div>"
      ],
      "text/plain": [
       "                ip        date      time   zone        cik  \\\n",
       "0    68.186.74.ahg  2004-02-01  00:00:00  500.0   701818.0   \n",
       "1  128.125.208.cjj  2004-02-01  00:00:01  500.0   701345.0   \n",
       "2  128.255.247.edd  2004-02-01  00:00:01  500.0   700863.0   \n",
       "3     68.5.121.eij  2004-02-01  00:00:01  500.0  1021224.0   \n",
       "4   63.137.115.eih  2004-02-01  00:00:02  500.0  1041403.0   \n",
       "\n",
       "              accession     extention   code      size  idx  norefer  noagent  \\\n",
       "0  0001188112-04-000003  t6k-1458.txt  200.0    3986.0  0.0      0.0      0.0   \n",
       "1  0000701345-03-000052  group10q.htm  200.0  401981.0  0.0      0.0      0.0   \n",
       "2  0000950109-01-500610   ddef14a.htm  200.0  290821.0  0.0      1.0      0.0   \n",
       "3  0001021224-02-000003  richmont.txt  200.0   11019.0  0.0      1.0      0.0   \n",
       "4  0001209191-04-002505    -index.htm  200.0    2994.0  1.0      1.0      0.0   \n",
       "\n",
       "   find  crawler browser  \n",
       "0   9.0      0.0     mie  \n",
       "1   9.0      0.0     win  \n",
       "2   0.0      0.0     win  \n",
       "3   0.0      0.0     win  \n",
       "4   0.0      0.0     win  "
      ]
     },
     "execution_count": 55,
     "metadata": {},
     "output_type": "execute_result"
    }
   ],
   "source": [
    "data1.head()"
   ]
  },
  {
   "cell_type": "code",
   "execution_count": 56,
   "metadata": {},
   "outputs": [
    {
     "data": {
      "text/plain": [
       "ip               0\n",
       "date             0\n",
       "time             0\n",
       "zone             0\n",
       "cik              0\n",
       "accession        0\n",
       "extention        0\n",
       "code             0\n",
       "size         38225\n",
       "idx              0\n",
       "norefer          0\n",
       "noagent          0\n",
       "find             0\n",
       "crawler          0\n",
       "browser      71636\n",
       "dtype: int64"
      ]
     },
     "execution_count": 56,
     "metadata": {},
     "output_type": "execute_result"
    }
   ],
   "source": [
    "data1.isnull().sum()"
   ]
  },
  {
   "cell_type": "code",
   "execution_count": 60,
   "metadata": {},
   "outputs": [],
   "source": [
    "data1['size'].fillna(data['size'].mean(), inplace = True)"
   ]
  },
  {
   "cell_type": "code",
   "execution_count": 61,
   "metadata": {},
   "outputs": [
    {
     "data": {
      "text/html": [
       "<div>\n",
       "<style>\n",
       "    .dataframe thead tr:only-child th {\n",
       "        text-align: right;\n",
       "    }\n",
       "\n",
       "    .dataframe thead th {\n",
       "        text-align: left;\n",
       "    }\n",
       "\n",
       "    .dataframe tbody tr th {\n",
       "        vertical-align: top;\n",
       "    }\n",
       "</style>\n",
       "<table border=\"1\" class=\"dataframe\">\n",
       "  <thead>\n",
       "    <tr style=\"text-align: right;\">\n",
       "      <th></th>\n",
       "      <th>ip</th>\n",
       "      <th>date</th>\n",
       "      <th>time</th>\n",
       "      <th>zone</th>\n",
       "      <th>cik</th>\n",
       "      <th>accession</th>\n",
       "      <th>extention</th>\n",
       "      <th>code</th>\n",
       "      <th>size</th>\n",
       "      <th>idx</th>\n",
       "      <th>norefer</th>\n",
       "      <th>noagent</th>\n",
       "      <th>find</th>\n",
       "      <th>crawler</th>\n",
       "      <th>browser</th>\n",
       "    </tr>\n",
       "  </thead>\n",
       "  <tbody>\n",
       "    <tr>\n",
       "      <th>0</th>\n",
       "      <td>68.186.74.ahg</td>\n",
       "      <td>2004-02-01</td>\n",
       "      <td>00:00:00</td>\n",
       "      <td>500.0</td>\n",
       "      <td>701818.0</td>\n",
       "      <td>0001188112-04-000003</td>\n",
       "      <td>t6k-1458.txt</td>\n",
       "      <td>200.0</td>\n",
       "      <td>3986.0</td>\n",
       "      <td>0.0</td>\n",
       "      <td>0.0</td>\n",
       "      <td>0.0</td>\n",
       "      <td>9.0</td>\n",
       "      <td>0.0</td>\n",
       "      <td>mie</td>\n",
       "    </tr>\n",
       "    <tr>\n",
       "      <th>1</th>\n",
       "      <td>128.125.208.cjj</td>\n",
       "      <td>2004-02-01</td>\n",
       "      <td>00:00:01</td>\n",
       "      <td>500.0</td>\n",
       "      <td>701345.0</td>\n",
       "      <td>0000701345-03-000052</td>\n",
       "      <td>group10q.htm</td>\n",
       "      <td>200.0</td>\n",
       "      <td>401981.0</td>\n",
       "      <td>0.0</td>\n",
       "      <td>0.0</td>\n",
       "      <td>0.0</td>\n",
       "      <td>9.0</td>\n",
       "      <td>0.0</td>\n",
       "      <td>win</td>\n",
       "    </tr>\n",
       "    <tr>\n",
       "      <th>2</th>\n",
       "      <td>128.255.247.edd</td>\n",
       "      <td>2004-02-01</td>\n",
       "      <td>00:00:01</td>\n",
       "      <td>500.0</td>\n",
       "      <td>700863.0</td>\n",
       "      <td>0000950109-01-500610</td>\n",
       "      <td>ddef14a.htm</td>\n",
       "      <td>200.0</td>\n",
       "      <td>290821.0</td>\n",
       "      <td>0.0</td>\n",
       "      <td>1.0</td>\n",
       "      <td>0.0</td>\n",
       "      <td>0.0</td>\n",
       "      <td>0.0</td>\n",
       "      <td>win</td>\n",
       "    </tr>\n",
       "    <tr>\n",
       "      <th>3</th>\n",
       "      <td>68.5.121.eij</td>\n",
       "      <td>2004-02-01</td>\n",
       "      <td>00:00:01</td>\n",
       "      <td>500.0</td>\n",
       "      <td>1021224.0</td>\n",
       "      <td>0001021224-02-000003</td>\n",
       "      <td>richmont.txt</td>\n",
       "      <td>200.0</td>\n",
       "      <td>11019.0</td>\n",
       "      <td>0.0</td>\n",
       "      <td>1.0</td>\n",
       "      <td>0.0</td>\n",
       "      <td>0.0</td>\n",
       "      <td>0.0</td>\n",
       "      <td>win</td>\n",
       "    </tr>\n",
       "    <tr>\n",
       "      <th>4</th>\n",
       "      <td>63.137.115.eih</td>\n",
       "      <td>2004-02-01</td>\n",
       "      <td>00:00:02</td>\n",
       "      <td>500.0</td>\n",
       "      <td>1041403.0</td>\n",
       "      <td>0001209191-04-002505</td>\n",
       "      <td>-index.htm</td>\n",
       "      <td>200.0</td>\n",
       "      <td>2994.0</td>\n",
       "      <td>1.0</td>\n",
       "      <td>1.0</td>\n",
       "      <td>0.0</td>\n",
       "      <td>0.0</td>\n",
       "      <td>0.0</td>\n",
       "      <td>win</td>\n",
       "    </tr>\n",
       "  </tbody>\n",
       "</table>\n",
       "</div>"
      ],
      "text/plain": [
       "                ip        date      time   zone        cik  \\\n",
       "0    68.186.74.ahg  2004-02-01  00:00:00  500.0   701818.0   \n",
       "1  128.125.208.cjj  2004-02-01  00:00:01  500.0   701345.0   \n",
       "2  128.255.247.edd  2004-02-01  00:00:01  500.0   700863.0   \n",
       "3     68.5.121.eij  2004-02-01  00:00:01  500.0  1021224.0   \n",
       "4   63.137.115.eih  2004-02-01  00:00:02  500.0  1041403.0   \n",
       "\n",
       "              accession     extention   code      size  idx  norefer  noagent  \\\n",
       "0  0001188112-04-000003  t6k-1458.txt  200.0    3986.0  0.0      0.0      0.0   \n",
       "1  0000701345-03-000052  group10q.htm  200.0  401981.0  0.0      0.0      0.0   \n",
       "2  0000950109-01-500610   ddef14a.htm  200.0  290821.0  0.0      1.0      0.0   \n",
       "3  0001021224-02-000003  richmont.txt  200.0   11019.0  0.0      1.0      0.0   \n",
       "4  0001209191-04-002505    -index.htm  200.0    2994.0  1.0      1.0      0.0   \n",
       "\n",
       "   find  crawler browser  \n",
       "0   9.0      0.0     mie  \n",
       "1   9.0      0.0     win  \n",
       "2   0.0      0.0     win  \n",
       "3   0.0      0.0     win  \n",
       "4   0.0      0.0     win  "
      ]
     },
     "execution_count": 61,
     "metadata": {},
     "output_type": "execute_result"
    }
   ],
   "source": [
    "data1.head()"
   ]
  },
  {
   "cell_type": "code",
   "execution_count": 62,
   "metadata": {},
   "outputs": [
    {
     "data": {
      "text/plain": [
       "ip               0\n",
       "date             0\n",
       "time             0\n",
       "zone             0\n",
       "cik              0\n",
       "accession        0\n",
       "extention        0\n",
       "code             0\n",
       "size             0\n",
       "idx              0\n",
       "norefer          0\n",
       "noagent          0\n",
       "find             0\n",
       "crawler          0\n",
       "browser      71636\n",
       "dtype: int64"
      ]
     },
     "execution_count": 62,
     "metadata": {},
     "output_type": "execute_result"
    }
   ],
   "source": [
    "data1.isnull().sum()"
   ]
  },
  {
   "cell_type": "code",
   "execution_count": 66,
   "metadata": {},
   "outputs": [
    {
     "data": {
      "text/plain": [
       "win    106682\n",
       "mie     14731\n",
       "mac       456\n",
       "lin       258\n",
       "opr        38\n",
       "iem         1\n",
       "Name: browser, dtype: int64"
      ]
     },
     "execution_count": 66,
     "metadata": {},
     "output_type": "execute_result"
    }
   ],
   "source": [
    "data1['browser'].value_counts()"
   ]
  },
  {
   "cell_type": "code",
   "execution_count": 67,
   "metadata": {
    "collapsed": true
   },
   "outputs": [],
   "source": [
    "x=data1['browser'].mode()"
   ]
  },
  {
   "cell_type": "code",
   "execution_count": 68,
   "metadata": {},
   "outputs": [
    {
     "data": {
      "text/plain": [
       "'win'"
      ]
     },
     "execution_count": 68,
     "metadata": {},
     "output_type": "execute_result"
    }
   ],
   "source": [
    "x[0]"
   ]
  },
  {
   "cell_type": "code",
   "execution_count": 69,
   "metadata": {
    "collapsed": true
   },
   "outputs": [],
   "source": [
    "data1['browser'].fillna(x[0], inplace = True)"
   ]
  },
  {
   "cell_type": "code",
   "execution_count": 70,
   "metadata": {},
   "outputs": [
    {
     "data": {
      "text/plain": [
       "ip           0\n",
       "date         0\n",
       "time         0\n",
       "zone         0\n",
       "cik          0\n",
       "accession    0\n",
       "extention    0\n",
       "code         0\n",
       "size         0\n",
       "idx          0\n",
       "norefer      0\n",
       "noagent      0\n",
       "find         0\n",
       "crawler      0\n",
       "browser      0\n",
       "dtype: int64"
      ]
     },
     "execution_count": 70,
     "metadata": {},
     "output_type": "execute_result"
    }
   ],
   "source": [
    "data1.isnull().sum()"
   ]
  },
  {
   "cell_type": "code",
   "execution_count": 71,
   "metadata": {},
   "outputs": [
    {
     "data": {
      "image/png": "[encoded data removed]",
      "text/plain": [
       "<matplotlib.figure.Figure at 0x1e5fb483128>"
      ]
     },
     "metadata": {},
     "output_type": "display_data"
    }
   ],
   "source": [
    "# matplotlib.figure.Figure(figsize= (w,h)) tuple in inches\n",
    "\n",
    "from matplotlib import pyplot as plt\n",
    "plt.figure(figsize=(10,5))\n",
    "\n",
    "\n",
    "# seaborn.countplot - Show the counts of observations in each categorical bin using bars.\n",
    "# A count plot can be thought of as a histogram across a categorical, instead of quantitative, variable\n",
    "\n",
    "sns.countplot(data['browser'])\n",
    "plt.xticks(rotation = 'vertical')\n",
    "#plt.title('Manufacturers distribution in dataset')\n",
    "#plt.ylabel('Number of vehicles')\n",
    "plt.show()\n"
   ]
  },
  {
   "cell_type": "code",
   "execution_count": 72,
   "metadata": {},
   "outputs": [
    {
     "data": {
      "image/png": "[encoded data removed]",
      "text/plain": [
       "<matplotlib.figure.Figure at 0x1e5fc6f3d68>"
      ]
     },
     "metadata": {},
     "output_type": "display_data"
    }
   ],
   "source": [
    "# matplotlib.figure.Figure(figsize= (w,h)) tuple in inches\n",
    "\n",
    "from matplotlib import pyplot as plt\n",
    "plt.figure(figsize=(10,5))\n",
    "\n",
    "\n",
    "# seaborn.countplot - Show the counts of observations in each categorical bin using bars.\n",
    "# A count plot can be thought of as a histogram across a categorical, instead of quantitative, variable\n",
    "\n",
    "sns.countplot(data1['browser'])\n",
    "plt.xticks(rotation = 'vertical')\n",
    "#plt.title('Manufacturers distribution in dataset')\n",
    "#plt.ylabel('Number of vehicles')\n",
    "plt.show()\n"
   ]
  },
  {
   "cell_type": "code",
   "execution_count": 77,
   "metadata": {},
   "outputs": [
    {
     "data": {
      "image/png": "[encoded data removed]",
      "text/plain": [
       "<matplotlib.figure.Figure at 0x1e58fe3ff98>"
      ]
     },
     "metadata": {},
     "output_type": "display_data"
    }
   ],
   "source": [
    "# matplotlib.figure.Figure(figsize= (w,h)) tuple in inches\n",
    "\n",
    "from matplotlib import pyplot as plt\n",
    "plt.figure(figsize=(10,5))\n",
    "\n",
    "\n",
    "# seaborn.countplot - Show the counts of observations in each categorical bin using bars.\n",
    "# A count plot can be thought of as a histogram across a categorical, instead of quantitative, variable\n",
    "\n",
    "sns.countplot(data['size'])\n",
    "plt.xticks(rotation = 'vertical')\n",
    "#plt.title('Manufacturers distribution in dataset')\n",
    "#plt.ylabel('Number of vehicles')\n",
    "plt.show()\n"
   ]
  },
  {
   "cell_type": "markdown",
   "metadata": {},
   "source": [
    "### Correlation Analysis"
   ]
  },
  {
   "cell_type": "code",
   "execution_count": 78,
   "metadata": {},
   "outputs": [
    {
     "data": {
      "image/png": "[encoded data removed]",
      "text/plain": [
       "<matplotlib.figure.Figure at 0x1e5834d0b00>"
      ]
     },
     "metadata": {},
     "output_type": "display_data"
    }
   ],
   "source": [
    "import seaborn as sns\n",
    "correlation = data.corr()\n",
    "sns.set_context(\"notebook\", font_scale = 1.0, rc = {\"lines.linewidth\" : 2.5})\n",
    "plt.figure(figsize=(13, 7))\n",
    "a = sns.heatmap(correlation,annot = True, fmt = '.2f')\n",
    "\n",
    "rotx = a.set_xticklabels(a.get_xticklabels(), rotation=90)\n",
    "roty = a.set_yticklabels(a.get_yticklabels(), rotation=30)\n"
   ]
  },
  {
   "cell_type": "code",
   "execution_count": null,
   "metadata": {
    "collapsed": true
   },
   "outputs": [],
   "source": []
  }
 ],
 "metadata": {
  "kernelspec": {
   "display_name": "Python 3",
   "language": "python",
   "name": "python3"
  },
  "language_info": {
   "codemirror_mode": {
    "name": "ipython",
    "version": 3
   },
   "file_extension": ".py",
   "mimetype": "text/x-python",
   "name": "python",
   "nbconvert_exporter": "python",
   "pygments_lexer": "ipython3",
   "version": "3.6.3"
  }
 },
 "nbformat": 4,
 "nbformat_minor": 2
}
