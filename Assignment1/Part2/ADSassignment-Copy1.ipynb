{
 "cells": [
  {
   "cell_type": "code",
   "execution_count": 1,
   "metadata": {},
   "outputs": [],
   "source": [
    "from lxml.html import parse\n",
    "import numpy as np\n",
    "from urllib.request import urlopen\n",
    "import requests,zipfile,io\n",
    "import pandas as pd\n",
    "import math\n",
    "import seaborn as sns\n",
    "import re\n",
    "import matplotlib.pyplot as plt\n",
    "import os\n",
    "%matplotlib inline"
   ]
  },
  {
   "cell_type": "code",
   "execution_count": 18,
   "metadata": {},
   "outputs": [],
   "source": [
    "data = pd.read_csv(\"training.csv\") "
   ]
  },
  {
   "cell_type": "code",
   "execution_count": 19,
   "metadata": {},
   "outputs": [
    {
     "data": {
      "text/html": [
       "<div>\n",
       "<style scoped>\n",
       "    .dataframe tbody tr th:only-of-type {\n",
       "        vertical-align: middle;\n",
       "    }\n",
       "\n",
       "    .dataframe tbody tr th {\n",
       "        vertical-align: top;\n",
       "    }\n",
       "\n",
       "    .dataframe thead th {\n",
       "        text-align: right;\n",
       "    }\n",
       "</style>\n",
       "<table border=\"1\" class=\"dataframe\">\n",
       "  <thead>\n",
       "    <tr style=\"text-align: right;\">\n",
       "      <th></th>\n",
       "      <th>date</th>\n",
       "      <th>Appliances</th>\n",
       "      <th>lights</th>\n",
       "      <th>T1</th>\n",
       "      <th>RH_1</th>\n",
       "      <th>T2</th>\n",
       "      <th>RH_2</th>\n",
       "      <th>T3</th>\n",
       "      <th>RH_3</th>\n",
       "      <th>T4</th>\n",
       "      <th>...</th>\n",
       "      <th>Press_mm_hg</th>\n",
       "      <th>RH_out</th>\n",
       "      <th>Windspeed</th>\n",
       "      <th>Visibility</th>\n",
       "      <th>Tdewpoint</th>\n",
       "      <th>rv1</th>\n",
       "      <th>rv2</th>\n",
       "      <th>NSM</th>\n",
       "      <th>WeekStatus</th>\n",
       "      <th>Day_of_week</th>\n",
       "    </tr>\n",
       "  </thead>\n",
       "  <tbody>\n",
       "    <tr>\n",
       "      <th>0</th>\n",
       "      <td>2016-01-11 17:00:00</td>\n",
       "      <td>60</td>\n",
       "      <td>30</td>\n",
       "      <td>19.89</td>\n",
       "      <td>47.596667</td>\n",
       "      <td>19.2</td>\n",
       "      <td>44.790000</td>\n",
       "      <td>19.79</td>\n",
       "      <td>44.730000</td>\n",
       "      <td>19.000000</td>\n",
       "      <td>...</td>\n",
       "      <td>733.5</td>\n",
       "      <td>92.0</td>\n",
       "      <td>7.000000</td>\n",
       "      <td>63.000000</td>\n",
       "      <td>5.3</td>\n",
       "      <td>13.275433</td>\n",
       "      <td>13.275433</td>\n",
       "      <td>61200</td>\n",
       "      <td>Weekday</td>\n",
       "      <td>Monday</td>\n",
       "    </tr>\n",
       "    <tr>\n",
       "      <th>1</th>\n",
       "      <td>2016-01-11 17:10:00</td>\n",
       "      <td>60</td>\n",
       "      <td>30</td>\n",
       "      <td>19.89</td>\n",
       "      <td>46.693333</td>\n",
       "      <td>19.2</td>\n",
       "      <td>44.722500</td>\n",
       "      <td>19.79</td>\n",
       "      <td>44.790000</td>\n",
       "      <td>19.000000</td>\n",
       "      <td>...</td>\n",
       "      <td>733.6</td>\n",
       "      <td>92.0</td>\n",
       "      <td>6.666667</td>\n",
       "      <td>59.166667</td>\n",
       "      <td>5.2</td>\n",
       "      <td>18.606195</td>\n",
       "      <td>18.606195</td>\n",
       "      <td>61800</td>\n",
       "      <td>Weekday</td>\n",
       "      <td>Monday</td>\n",
       "    </tr>\n",
       "    <tr>\n",
       "      <th>2</th>\n",
       "      <td>2016-01-11 17:20:00</td>\n",
       "      <td>50</td>\n",
       "      <td>30</td>\n",
       "      <td>19.89</td>\n",
       "      <td>46.300000</td>\n",
       "      <td>19.2</td>\n",
       "      <td>44.626667</td>\n",
       "      <td>19.79</td>\n",
       "      <td>44.933333</td>\n",
       "      <td>18.926667</td>\n",
       "      <td>...</td>\n",
       "      <td>733.7</td>\n",
       "      <td>92.0</td>\n",
       "      <td>6.333333</td>\n",
       "      <td>55.333333</td>\n",
       "      <td>5.1</td>\n",
       "      <td>28.642668</td>\n",
       "      <td>28.642668</td>\n",
       "      <td>62400</td>\n",
       "      <td>Weekday</td>\n",
       "      <td>Monday</td>\n",
       "    </tr>\n",
       "    <tr>\n",
       "      <th>3</th>\n",
       "      <td>2016-01-11 17:40:00</td>\n",
       "      <td>60</td>\n",
       "      <td>40</td>\n",
       "      <td>19.89</td>\n",
       "      <td>46.333333</td>\n",
       "      <td>19.2</td>\n",
       "      <td>44.530000</td>\n",
       "      <td>19.79</td>\n",
       "      <td>45.000000</td>\n",
       "      <td>18.890000</td>\n",
       "      <td>...</td>\n",
       "      <td>733.9</td>\n",
       "      <td>92.0</td>\n",
       "      <td>5.666667</td>\n",
       "      <td>47.666667</td>\n",
       "      <td>4.9</td>\n",
       "      <td>10.084097</td>\n",
       "      <td>10.084097</td>\n",
       "      <td>63600</td>\n",
       "      <td>Weekday</td>\n",
       "      <td>Monday</td>\n",
       "    </tr>\n",
       "    <tr>\n",
       "      <th>4</th>\n",
       "      <td>2016-01-11 17:50:00</td>\n",
       "      <td>50</td>\n",
       "      <td>40</td>\n",
       "      <td>19.89</td>\n",
       "      <td>46.026667</td>\n",
       "      <td>19.2</td>\n",
       "      <td>44.500000</td>\n",
       "      <td>19.79</td>\n",
       "      <td>44.933333</td>\n",
       "      <td>18.890000</td>\n",
       "      <td>...</td>\n",
       "      <td>734.0</td>\n",
       "      <td>92.0</td>\n",
       "      <td>5.333333</td>\n",
       "      <td>43.833333</td>\n",
       "      <td>4.8</td>\n",
       "      <td>44.919484</td>\n",
       "      <td>44.919484</td>\n",
       "      <td>64200</td>\n",
       "      <td>Weekday</td>\n",
       "      <td>Monday</td>\n",
       "    </tr>\n",
       "  </tbody>\n",
       "</table>\n",
       "<p>5 rows × 32 columns</p>\n",
       "</div>"
      ],
      "text/plain": [
       "                  date  Appliances  lights     T1       RH_1    T2       RH_2  \\\n",
       "0  2016-01-11 17:00:00          60      30  19.89  47.596667  19.2  44.790000   \n",
       "1  2016-01-11 17:10:00          60      30  19.89  46.693333  19.2  44.722500   \n",
       "2  2016-01-11 17:20:00          50      30  19.89  46.300000  19.2  44.626667   \n",
       "3  2016-01-11 17:40:00          60      40  19.89  46.333333  19.2  44.530000   \n",
       "4  2016-01-11 17:50:00          50      40  19.89  46.026667  19.2  44.500000   \n",
       "\n",
       "      T3       RH_3         T4     ...       Press_mm_hg  RH_out  Windspeed  \\\n",
       "0  19.79  44.730000  19.000000     ...             733.5    92.0   7.000000   \n",
       "1  19.79  44.790000  19.000000     ...             733.6    92.0   6.666667   \n",
       "2  19.79  44.933333  18.926667     ...             733.7    92.0   6.333333   \n",
       "3  19.79  45.000000  18.890000     ...             733.9    92.0   5.666667   \n",
       "4  19.79  44.933333  18.890000     ...             734.0    92.0   5.333333   \n",
       "\n",
       "   Visibility  Tdewpoint        rv1        rv2    NSM  WeekStatus  Day_of_week  \n",
       "0   63.000000        5.3  13.275433  13.275433  61200     Weekday       Monday  \n",
       "1   59.166667        5.2  18.606195  18.606195  61800     Weekday       Monday  \n",
       "2   55.333333        5.1  28.642668  28.642668  62400     Weekday       Monday  \n",
       "3   47.666667        4.9  10.084097  10.084097  63600     Weekday       Monday  \n",
       "4   43.833333        4.8  44.919484  44.919484  64200     Weekday       Monday  \n",
       "\n",
       "[5 rows x 32 columns]"
      ]
     },
     "execution_count": 19,
     "metadata": {},
     "output_type": "execute_result"
    }
   ],
   "source": [
    "data.head()"
   ]
  },
  {
   "cell_type": "code",
   "execution_count": 21,
   "metadata": {},
   "outputs": [
    {
     "data": {
      "text/html": [
       "<div>\n",
       "<style scoped>\n",
       "    .dataframe tbody tr th:only-of-type {\n",
       "        vertical-align: middle;\n",
       "    }\n",
       "\n",
       "    .dataframe tbody tr th {\n",
       "        vertical-align: top;\n",
       "    }\n",
       "\n",
       "    .dataframe thead th {\n",
       "        text-align: right;\n",
       "    }\n",
       "</style>\n",
       "<table border=\"1\" class=\"dataframe\">\n",
       "  <thead>\n",
       "    <tr style=\"text-align: right;\">\n",
       "      <th></th>\n",
       "      <th>date</th>\n",
       "      <th>WeekStatus</th>\n",
       "      <th>Day_of_week</th>\n",
       "    </tr>\n",
       "  </thead>\n",
       "  <tbody>\n",
       "    <tr>\n",
       "      <th>count</th>\n",
       "      <td>14803</td>\n",
       "      <td>14803</td>\n",
       "      <td>14803</td>\n",
       "    </tr>\n",
       "    <tr>\n",
       "      <th>unique</th>\n",
       "      <td>14803</td>\n",
       "      <td>2</td>\n",
       "      <td>7</td>\n",
       "    </tr>\n",
       "    <tr>\n",
       "      <th>top</th>\n",
       "      <td>2016-02-17 18:50:00</td>\n",
       "      <td>Weekday</td>\n",
       "      <td>Wednesday</td>\n",
       "    </tr>\n",
       "    <tr>\n",
       "      <th>freq</th>\n",
       "      <td>1</td>\n",
       "      <td>10720</td>\n",
       "      <td>2170</td>\n",
       "    </tr>\n",
       "  </tbody>\n",
       "</table>\n",
       "</div>"
      ],
      "text/plain": [
       "                       date WeekStatus Day_of_week\n",
       "count                 14803      14803       14803\n",
       "unique                14803          2           7\n",
       "top     2016-02-17 18:50:00    Weekday   Wednesday\n",
       "freq                      1      10720        2170"
      ]
     },
     "execution_count": 21,
     "metadata": {},
     "output_type": "execute_result"
    }
   ],
   "source": [
    "data.describe(exclude=[np.number])"
   ]
  },
  {
   "cell_type": "code",
   "execution_count": 30,
   "metadata": {},
   "outputs": [
    {
     "data": {
      "text/plain": [
       "14802    2016-05-27 18:00:00\n",
       "Name: date, dtype: object"
      ]
     },
     "execution_count": 30,
     "metadata": {},
     "output_type": "execute_result"
    }
   ],
   "source": [
    "data[\"date\"][-1:]"
   ]
  },
  {
   "cell_type": "code",
   "execution_count": 7,
   "metadata": {},
   "outputs": [],
   "source": [
    "k = str(data[\"date\"][0])"
   ]
  },
  {
   "cell_type": "code",
   "execution_count": 12,
   "metadata": {},
   "outputs": [
    {
     "name": "stdout",
     "output_type": "stream",
     "text": [
      "01\n"
     ]
    }
   ],
   "source": [
    "print(k[5:7])"
   ]
  },
  {
   "cell_type": "code",
   "execution_count": 13,
   "metadata": {},
   "outputs": [
    {
     "data": {
      "text/plain": [
       "0        0        2016-01-11 17:00:00\\n1        2016-01...\n",
       "1        0        2016-01-11 17:00:00\\n1        2016-01...\n",
       "2        0        2016-01-11 17:00:00\\n1        2016-01...\n",
       "3        0        2016-01-11 17:00:00\\n1        2016-01...\n",
       "4        0        2016-01-11 17:00:00\\n1        2016-01...\n",
       "5        0        2016-01-11 17:00:00\\n1        2016-01...\n",
       "6        0        2016-01-11 17:00:00\\n1        2016-01...\n",
       "7        0        2016-01-11 17:00:00\\n1        2016-01...\n",
       "8        0        2016-01-11 17:00:00\\n1        2016-01...\n",
       "9        0        2016-01-11 17:00:00\\n1        2016-01...\n",
       "10       0        2016-01-11 17:00:00\\n1        2016-01...\n",
       "11       0        2016-01-11 17:00:00\\n1        2016-01...\n",
       "12       0        2016-01-11 17:00:00\\n1        2016-01...\n",
       "13       0        2016-01-11 17:00:00\\n1        2016-01...\n",
       "14       0        2016-01-11 17:00:00\\n1        2016-01...\n",
       "15       0        2016-01-11 17:00:00\\n1        2016-01...\n",
       "16       0        2016-01-11 17:00:00\\n1        2016-01...\n",
       "17       0        2016-01-11 17:00:00\\n1        2016-01...\n",
       "18       0        2016-01-11 17:00:00\\n1        2016-01...\n",
       "19       0        2016-01-11 17:00:00\\n1        2016-01...\n",
       "20       0        2016-01-11 17:00:00\\n1        2016-01...\n",
       "21       0        2016-01-11 17:00:00\\n1        2016-01...\n",
       "22       0        2016-01-11 17:00:00\\n1        2016-01...\n",
       "23       0        2016-01-11 17:00:00\\n1        2016-01...\n",
       "24       0        2016-01-11 17:00:00\\n1        2016-01...\n",
       "25       0        2016-01-11 17:00:00\\n1        2016-01...\n",
       "26       0        2016-01-11 17:00:00\\n1        2016-01...\n",
       "27       0        2016-01-11 17:00:00\\n1        2016-01...\n",
       "28       0        2016-01-11 17:00:00\\n1        2016-01...\n",
       "29       0        2016-01-11 17:00:00\\n1        2016-01...\n",
       "                               ...                        \n",
       "14773    0        2016-01-11 17:00:00\\n1        2016-01...\n",
       "14774    0        2016-01-11 17:00:00\\n1        2016-01...\n",
       "14775    0        2016-01-11 17:00:00\\n1        2016-01...\n",
       "14776    0        2016-01-11 17:00:00\\n1        2016-01...\n",
       "14777    0        2016-01-11 17:00:00\\n1        2016-01...\n",
       "14778    0        2016-01-11 17:00:00\\n1        2016-01...\n",
       "14779    0        2016-01-11 17:00:00\\n1        2016-01...\n",
       "14780    0        2016-01-11 17:00:00\\n1        2016-01...\n",
       "14781    0        2016-01-11 17:00:00\\n1        2016-01...\n",
       "14782    0        2016-01-11 17:00:00\\n1        2016-01...\n",
       "14783    0        2016-01-11 17:00:00\\n1        2016-01...\n",
       "14784    0        2016-01-11 17:00:00\\n1        2016-01...\n",
       "14785    0        2016-01-11 17:00:00\\n1        2016-01...\n",
       "14786    0        2016-01-11 17:00:00\\n1        2016-01...\n",
       "14787    0        2016-01-11 17:00:00\\n1        2016-01...\n",
       "14788    0        2016-01-11 17:00:00\\n1        2016-01...\n",
       "14789    0        2016-01-11 17:00:00\\n1        2016-01...\n",
       "14790    0        2016-01-11 17:00:00\\n1        2016-01...\n",
       "14791    0        2016-01-11 17:00:00\\n1        2016-01...\n",
       "14792    0        2016-01-11 17:00:00\\n1        2016-01...\n",
       "14793    0        2016-01-11 17:00:00\\n1        2016-01...\n",
       "14794    0        2016-01-11 17:00:00\\n1        2016-01...\n",
       "14795    0        2016-01-11 17:00:00\\n1        2016-01...\n",
       "14796    0        2016-01-11 17:00:00\\n1        2016-01...\n",
       "14797    0        2016-01-11 17:00:00\\n1        2016-01...\n",
       "14798    0        2016-01-11 17:00:00\\n1        2016-01...\n",
       "14799    0        2016-01-11 17:00:00\\n1        2016-01...\n",
       "14800    0        2016-01-11 17:00:00\\n1        2016-01...\n",
       "14801    0        2016-01-11 17:00:00\\n1        2016-01...\n",
       "14802    0        2016-01-11 17:00:00\\n1        2016-01...\n",
       "Name: date, Length: 14803, dtype: object"
      ]
     },
     "execution_count": 13,
     "metadata": {},
     "output_type": "execute_result"
    }
   ],
   "source": [
    "data['date'].apply(lambda x: str(data['date']))"
   ]
  },
  {
   "cell_type": "code",
   "execution_count": 32,
   "metadata": {},
   "outputs": [
    {
     "data": {
      "text/plain": [
       "'17:00:00'"
      ]
     },
     "execution_count": 32,
     "metadata": {},
     "output_type": "execute_result"
    }
   ],
   "source": [
    "# data[\"date\"][1][5:7]\n",
    "data[\"date\"][0][11:]"
   ]
  }
 ],
 "metadata": {
  "kernelspec": {
   "display_name": "Python 3",
   "language": "python",
   "name": "python3"
  },
  "language_info": {
   "codemirror_mode": {
    "name": "ipython",
    "version": 3
   },
   "file_extension": ".py",
   "mimetype": "text/x-python",
   "name": "python",
   "nbconvert_exporter": "python",
   "pygments_lexer": "ipython3",
   "version": "3.6.4"
  }
 },
 "nbformat": 4,
 "nbformat_minor": 2
}
