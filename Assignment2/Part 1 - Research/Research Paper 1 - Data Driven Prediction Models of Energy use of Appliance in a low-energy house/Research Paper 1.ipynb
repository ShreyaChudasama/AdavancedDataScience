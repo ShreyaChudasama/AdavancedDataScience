{
 "cells": [
  {
   "cell_type": "markdown",
   "metadata": {},
   "source": [
    "# Research Paper 1\n",
    "# Data Driven Prediction Models of Energy use of Appliance in a low-energy house"
   ]
  },
  {
   "cell_type": "markdown",
   "metadata": {},
   "source": [
    "<h1>Index</h1>\n",
    "\n",
    "<p>1. <a href=\"#abstract\">Abstract</a></p>\n",
    "<p>2. <a href=\"#introduction\">Introduction</a></p>\n"
   ]
  },
  {
   "cell_type": "markdown",
   "metadata": {},
   "source": [
    "## <p id=\"abstract\">Abstract</p>\n",
    "\n",
    "The paper is about data driven models for the energy use of appliances with the help of weather parameters such as temperature, humidity from a wireless network and Airport stations.\n",
    "\n",
    "The four statistical features they used were:\n",
    "1. Multiple linear regression \n",
    "2. Support vector model with radial kernel\n",
    "3. gradient boost machine(GBM)\n",
    "\n",
    "They concluded that GBM was able to explain 97% of the variance(R2) in the training set and with 57% in the testing set.\n",
    "\n",
    "They also found out that the atmospheric pressure (which correlated to wind speed) is an influential parameter in the predictions made.\n"
   ]
  },
  {
   "cell_type": "markdown",
   "metadata": {},
   "source": [
    "## <p id =\"introduction\">Introduction</p>\n",
    "\n",
    "The electric consumption in a building is influenced by 2 major factors:\n",
    "1. The type and number of electrical appliance.\n",
    "2. The use of the appliance by the occupant.\n",
    "\n",
    "The prediction was carried out by taking into consideration of indoor and outdoor condition as parameters. \n"
   ]
  },
  {
   "cell_type": "markdown",
   "metadata": {},
   "source": [
    "<p><img alt=\"\" src=\"./images/residential_energy_consumption.PNG\" /></p>\n",
    "<p><b>fig. 1 : </b>Residential electrical energy consumption adapted from Table A4 page 139 of annual energy Outlook projections for 2015. Top chart, percentage of all deliveredenergy, Bottom chart, after removing Space heating, Space cooling, Lighting and Water Heating contributions<p>"
   ]
  },
  {
   "cell_type": "markdown",
   "metadata": {},
   "source": [
    "<h3>Literature Review</h3>\n",
    "\n",
    "<ul>\n",
    "\t<li>The data consists of hourly end-use data collected from 454 houses and 140 cmmercial buildings.</li>\n",
    "\t<li>The syntehtic data was compiled using Markov Chain Monte Carlo technique.</li>\n",
    "\t<li>The methodology to estimate building energy consumption is taken from EnergyPlus benchmark models.</li>\n",
    "\t<li>A Norton equivalent technique was used to model residential loads.</li>\n",
    "\t<li>&nbsp;<br />\n",
    "\t&nbsp;</li>\n",
    "</ul>\n"
   ]
  },
  {
   "cell_type": "code",
   "execution_count": null,
   "metadata": {},
   "outputs": [],
   "source": []
  }
 ],
 "metadata": {
  "kernelspec": {
   "display_name": "Python 3",
   "language": "python",
   "name": "python3"
  },
  "language_info": {
   "codemirror_mode": {
    "name": "ipython",
    "version": 3
   },
   "file_extension": ".py",
   "mimetype": "text/x-python",
   "name": "python",
   "nbconvert_exporter": "python",
   "pygments_lexer": "ipython3",
   "version": "3.6.4"
  }
 },
 "nbformat": 4,
 "nbformat_minor": 2
}
